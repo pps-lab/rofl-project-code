{
 "cells": [
  {
   "cell_type": "code",
   "execution_count": 1,
   "metadata": {
    "collapsed": true
   },
   "outputs": [],
   "source": [
    "import numpy as np\n",
    "import itertools"
   ]
  },
  {
   "cell_type": "markdown",
   "source": [
    "Load list"
   ],
   "metadata": {
    "collapsed": false
   }
  },
  {
   "cell_type": "code",
   "execution_count": 5,
   "outputs": [
    {
     "name": "stdout",
     "output_type": "stream",
     "text": [
      "\n",
      "- client: # baseline\n",
      "    malicious:\n",
      "      evasion:\n",
      "        args:\n",
      "          scale_factor: 85.0\n",
      "          pgd_factor: 0.029411764705882353\n",
      "  environment:\n",
      "    num_malicious_clients: 1\n",
      "\n",
      "- client: # baseline\n",
      "    malicious:\n",
      "      evasion:\n",
      "        args:\n",
      "          scale_factor: 42.5\n",
      "          pgd_factor: 0.058823529411764705\n",
      "  environment:\n",
      "    num_malicious_clients: 2\n",
      "\n",
      "- client: # baseline\n",
      "    malicious:\n",
      "      evasion:\n",
      "        args:\n",
      "          scale_factor: 28.333333333333332\n",
      "          pgd_factor: 0.08823529411764705\n",
      "  environment:\n",
      "    num_malicious_clients: 3\n",
      "\n",
      "- client: # baseline\n",
      "    malicious:\n",
      "      evasion:\n",
      "        args:\n",
      "          scale_factor: 21.25\n",
      "          pgd_factor: 0.11764705882352941\n",
      "  environment:\n",
      "    num_malicious_clients: 4\n",
      "\n",
      "- client: # baseline\n",
      "    malicious:\n",
      "      evasion:\n",
      "        args:\n",
      "          scale_factor: 17.0\n",
      "          pgd_factor: 0.14705882352941174\n",
      "  environment:\n",
      "    num_malicious_clients: 5\n"
     ]
    }
   ],
   "source": [
    "base_scale = 85.\n",
    "base_norm = 2.\n",
    "attackers = range(1, 6)\n",
    "base_pgd = 0.8\n",
    "\n",
    "decay = True\n",
    "\n",
    "for num_att in attackers:\n",
    "    fmt = f\"\"\"\n",
    "- client: # baseline\n",
    "    malicious:\n",
    "      evasion:\n",
    "        args:\n",
    "          scale_factor: {base_scale / num_att}\n",
    "          pgd_factor: {base_norm / ((base_scale / num_att) * base_pgd)}\n",
    "  environment:\n",
    "    num_malicious_clients: {num_att}\"\"\"\n",
    "    print(fmt)\n"
   ],
   "metadata": {
    "collapsed": false,
    "pycharm": {
     "name": "#%%\n"
    }
   }
  }
 ],
 "metadata": {
  "kernelspec": {
   "display_name": "Python 3",
   "language": "python",
   "name": "python3"
  },
  "language_info": {
   "codemirror_mode": {
    "name": "ipython",
    "version": 2
   },
   "file_extension": ".py",
   "mimetype": "text/x-python",
   "name": "python",
   "nbconvert_exporter": "python",
   "pygments_lexer": "ipython2",
   "version": "2.7.6"
  }
 },
 "nbformat": 4,
 "nbformat_minor": 0
}