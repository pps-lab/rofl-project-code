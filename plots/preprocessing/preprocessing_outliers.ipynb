{
 "cells": [
  {
   "cell_type": "code",
   "execution_count": 1,
   "metadata": {
    "collapsed": true
   },
   "outputs": [],
   "source": [
    "import numpy as np\n",
    "import matplotlib.pyplot as plt"
   ]
  },
  {
   "cell_type": "markdown",
   "source": [
    "Load list"
   ],
   "metadata": {
    "collapsed": false
   }
  },
  {
   "cell_type": "code",
   "execution_count": 2,
   "outputs": [],
   "source": [
    "people_7 = np.load('./data/people_sorted_7.npy')"
   ],
   "metadata": {
    "collapsed": false,
    "pycharm": {
     "name": "#%%\n"
    }
   }
  },
  {
   "cell_type": "code",
   "execution_count": 3,
   "outputs": [
    {
     "name": "stdout",
     "output_type": "stream",
     "text": [
      "3274\n"
     ]
    }
   ],
   "source": [
    "print(people_7.shape[0])"
   ],
   "metadata": {
    "collapsed": false,
    "pycharm": {
     "name": "#%%\n"
    }
   }
  },
  {
   "cell_type": "markdown",
   "source": [
    "Select 20"
   ],
   "metadata": {
    "collapsed": false,
    "pycharm": {
     "name": "#%% md\n"
    }
   }
  },
  {
   "cell_type": "code",
   "execution_count": 4,
   "outputs": [
    {
     "name": "stdout",
     "output_type": "stream",
     "text": [
      "[ 486  270 2078 3325 1559 3072 2011 2695 2773 3297 2840 1942 2580 1166\n",
      " 1025 2101 3372 2152 2495 1185 2570 2163 2925  402 2088 2062 2977 3302\n",
      " 1757 2641 2786 2839 1925  979 2293 1928 1930  708 2364 3139 1992 2270\n",
      " 1938 3000 1313  559 1941 2350 1975 2206 2807 2360 2584 2771 1948 2083\n",
      " 2733 2745  531  235 2424 2909 1989 2797 1929 2704 1946  345 3161 2097\n",
      " 2277 2843 2096 1312 2926  659  432 2970  497  977 2686 1951 2003 1811\n",
      " 1861 3157 2781 1990 1964 2297 2530 3309 2308  376 1918  390 3002 3093\n",
      " 2483 2269  587  228 2647 1019  310 3109 2060 2484  812  489 3020 2018\n",
      " 2527 2058 1947 2310 2031 2128 2056  162 2418 3293  821 2161 2090 2913\n",
      " 1582 2918 2671 2146  927 2828 2103 2494  643 2419 2896 2170 2525 2267\n",
      " 2275 2478 2332  593 1324 1094 1601 1452 2650 2551 2150 1810 2287 2299\n",
      " 2195 1702 2523 2022 2709 2805  176 3321 2860 2752 2885 2305 2377 2228\n",
      " 3140   70 1716 1067 1934 2093  405  300 3172 3128 2561 2463 1653 3267\n",
      "  108 1053 2193 2061 3349 2435 2032 3346 2503 2380 2211 2873 1542 2892\n",
      " 2487 2628 2905 2028]\n",
      "[array([ 486,  270, 2078, 3325, 1559]), array([2570, 2163, 2925,  402, 2088]), array([1992, 2270, 1938, 3000, 1313]), array([2424, 2909, 1989, 2797, 1929]), array([2686, 1951, 2003, 1811, 1861]), array([ 587,  228, 2647, 1019,  310]), array([2418, 3293,  821, 2161, 2090]), array([2275, 2478, 2332,  593, 1324]), array([ 176, 3321, 2860, 2752, 2885]), array([1653, 3267,  108, 1053, 2193])]\n"
     ]
    }
   ],
   "source": [
    "target_people = people_7[-200:]\n",
    "print(target_people)\n",
    "num_select = 10\n",
    "selection_size = 5\n",
    "selections = []\n",
    "step = int(target_people.shape[0] / num_select)\n",
    "for i in range(num_select):\n",
    "    selections.append(target_people[i*step:(i*step + selection_size)])\n",
    "\n",
    "print(selections)"
   ],
   "metadata": {
    "collapsed": false,
    "pycharm": {
     "name": "#%%\n"
    }
   }
  },
  {
   "cell_type": "code",
   "execution_count": 5,
   "outputs": [
    {
     "name": "stdout",
     "output_type": "stream",
     "text": [
      "\n",
      "- environment:\n",
      "    malicious_client_indices: [486,270,2078,3325,1559]\n",
      "\n",
      "- environment:\n",
      "    malicious_client_indices: [2570,2163,2925,402,2088]\n",
      "\n",
      "- environment:\n",
      "    malicious_client_indices: [1992,2270,1938,3000,1313]\n",
      "\n",
      "- environment:\n",
      "    malicious_client_indices: [2424,2909,1989,2797,1929]\n",
      "\n",
      "- environment:\n",
      "    malicious_client_indices: [2686,1951,2003,1811,1861]\n",
      "\n",
      "- environment:\n",
      "    malicious_client_indices: [587,228,2647,1019,310]\n",
      "\n",
      "- environment:\n",
      "    malicious_client_indices: [2418,3293,821,2161,2090]\n",
      "\n",
      "- environment:\n",
      "    malicious_client_indices: [2275,2478,2332,593,1324]\n",
      "\n",
      "- environment:\n",
      "    malicious_client_indices: [176,3321,2860,2752,2885]\n",
      "\n",
      "- environment:\n",
      "    malicious_client_indices: [1653,3267,108,1053,2193]\n"
     ]
    }
   ],
   "source": [
    "for s in selections:\n",
    "    fmt = f\"\"\"\n",
    "- environment:\n",
    "    malicious_client_indices: [{','.join([str(x) for x in list(s)])}]\"\"\"\n",
    "    print(fmt)\n"
   ],
   "metadata": {
    "collapsed": false,
    "pycharm": {
     "name": "#%%\n"
    }
   }
  },
  {
   "cell_type": "code",
   "execution_count": 6,
   "outputs": [
    {
     "name": "stdout",
     "output_type": "stream",
     "text": [
      "[486,270,2078,3325,1559],\n",
      "[2570,2163,2925,402,2088],\n",
      "[1992,2270,1938,3000,1313],\n",
      "[2424,2909,1989,2797,1929],\n",
      "[2686,1951,2003,1811,1861],\n",
      "[587,228,2647,1019,310],\n",
      "[2418,3293,821,2161,2090],\n",
      "[2275,2478,2332,593,1324],\n",
      "[176,3321,2860,2752,2885],\n",
      "[1653,3267,108,1053,2193],\n"
     ]
    }
   ],
   "source": [
    "for s in selections:\n",
    "    fmt = f\"\"\"[{','.join([str(x) for x in list(s)])}],\"\"\"\n",
    "    print(fmt)"
   ],
   "metadata": {
    "collapsed": false,
    "pycharm": {
     "name": "#%%\n"
    }
   }
  }
 ],
 "metadata": {
  "kernelspec": {
   "display_name": "Python 3",
   "language": "python",
   "name": "python3"
  },
  "language_info": {
   "codemirror_mode": {
    "name": "ipython",
    "version": 2
   },
   "file_extension": ".py",
   "mimetype": "text/x-python",
   "name": "python",
   "nbconvert_exporter": "python",
   "pygments_lexer": "ipython2",
   "version": "2.7.6"
  }
 },
 "nbformat": 4,
 "nbformat_minor": 0
}