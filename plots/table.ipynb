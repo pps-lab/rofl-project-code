{
 "cells": [
  {
   "cell_type": "code",
   "execution_count": 1,
   "id": "3641f8ad-2f6f-4774-989b-5d8c10c6a9fa",
   "metadata": {},
   "outputs": [
    {
     "data": {
      "text/plain": "        dataset      type     acc      mean_s         sum_s  bandwidth_GB  \\\n0   CIFAR Large  linf_opt  0.6534  130.735711   5098.692711        102.76   \n1   CIFAR Large     plain  0.6644   20.971711    817.896711          4.19   \n2   CIFAR Small        l2  0.5415  281.909316  10994.463316         34.77   \n3   CIFAR Small    l2_opt  0.5429   52.876000   2115.040000          6.73   \n4   CIFAR Small      linf  0.5410  251.674158   9815.292158         23.34   \n5   CIFAR Small  linf_opt  0.5352   38.217026   1490.464026         23.34   \n6   CIFAR Small     plain  0.5384    2.105278     77.895278          0.95   \n7         MNIST        l2  0.9744  132.016077   5280.643077         10.75   \n8         MNIST    l2_opt  0.9713   26.019949   1040.797949          2.81   \n9         MNIST      linf  0.9737  123.719513   4948.780513          7.21   \n10        MNIST  linf_opt  0.9742   19.632641    785.305641          7.21   \n11        MNIST     plain  0.9747    3.371103    134.844103          0.29   \n\n    mean_factor  bw_factor  \n0             6         25  \n1             1          1  \n2           134         37  \n3            25          7  \n4           120         25  \n5            18         25  \n6             1          1  \n7            39         37  \n8             8         10  \n9            37         25  \n10            6         25  \n11            1          1  ",
      "text/html": "<div>\n<style scoped>\n    .dataframe tbody tr th:only-of-type {\n        vertical-align: middle;\n    }\n\n    .dataframe tbody tr th {\n        vertical-align: top;\n    }\n\n    .dataframe thead th {\n        text-align: right;\n    }\n</style>\n<table border=\"1\" class=\"dataframe\">\n  <thead>\n    <tr style=\"text-align: right;\">\n      <th></th>\n      <th>dataset</th>\n      <th>type</th>\n      <th>acc</th>\n      <th>mean_s</th>\n      <th>sum_s</th>\n      <th>bandwidth_GB</th>\n      <th>mean_factor</th>\n      <th>bw_factor</th>\n    </tr>\n  </thead>\n  <tbody>\n    <tr>\n      <th>0</th>\n      <td>CIFAR Large</td>\n      <td>linf_opt</td>\n      <td>0.6534</td>\n      <td>130.735711</td>\n      <td>5098.692711</td>\n      <td>102.76</td>\n      <td>6</td>\n      <td>25</td>\n    </tr>\n    <tr>\n      <th>1</th>\n      <td>CIFAR Large</td>\n      <td>plain</td>\n      <td>0.6644</td>\n      <td>20.971711</td>\n      <td>817.896711</td>\n      <td>4.19</td>\n      <td>1</td>\n      <td>1</td>\n    </tr>\n    <tr>\n      <th>2</th>\n      <td>CIFAR Small</td>\n      <td>l2</td>\n      <td>0.5415</td>\n      <td>281.909316</td>\n      <td>10994.463316</td>\n      <td>34.77</td>\n      <td>134</td>\n      <td>37</td>\n    </tr>\n    <tr>\n      <th>3</th>\n      <td>CIFAR Small</td>\n      <td>l2_opt</td>\n      <td>0.5429</td>\n      <td>52.876000</td>\n      <td>2115.040000</td>\n      <td>6.73</td>\n      <td>25</td>\n      <td>7</td>\n    </tr>\n    <tr>\n      <th>4</th>\n      <td>CIFAR Small</td>\n      <td>linf</td>\n      <td>0.5410</td>\n      <td>251.674158</td>\n      <td>9815.292158</td>\n      <td>23.34</td>\n      <td>120</td>\n      <td>25</td>\n    </tr>\n    <tr>\n      <th>5</th>\n      <td>CIFAR Small</td>\n      <td>linf_opt</td>\n      <td>0.5352</td>\n      <td>38.217026</td>\n      <td>1490.464026</td>\n      <td>23.34</td>\n      <td>18</td>\n      <td>25</td>\n    </tr>\n    <tr>\n      <th>6</th>\n      <td>CIFAR Small</td>\n      <td>plain</td>\n      <td>0.5384</td>\n      <td>2.105278</td>\n      <td>77.895278</td>\n      <td>0.95</td>\n      <td>1</td>\n      <td>1</td>\n    </tr>\n    <tr>\n      <th>7</th>\n      <td>MNIST</td>\n      <td>l2</td>\n      <td>0.9744</td>\n      <td>132.016077</td>\n      <td>5280.643077</td>\n      <td>10.75</td>\n      <td>39</td>\n      <td>37</td>\n    </tr>\n    <tr>\n      <th>8</th>\n      <td>MNIST</td>\n      <td>l2_opt</td>\n      <td>0.9713</td>\n      <td>26.019949</td>\n      <td>1040.797949</td>\n      <td>2.81</td>\n      <td>8</td>\n      <td>10</td>\n    </tr>\n    <tr>\n      <th>9</th>\n      <td>MNIST</td>\n      <td>linf</td>\n      <td>0.9737</td>\n      <td>123.719513</td>\n      <td>4948.780513</td>\n      <td>7.21</td>\n      <td>37</td>\n      <td>25</td>\n    </tr>\n    <tr>\n      <th>10</th>\n      <td>MNIST</td>\n      <td>linf_opt</td>\n      <td>0.9742</td>\n      <td>19.632641</td>\n      <td>785.305641</td>\n      <td>7.21</td>\n      <td>6</td>\n      <td>25</td>\n    </tr>\n    <tr>\n      <th>11</th>\n      <td>MNIST</td>\n      <td>plain</td>\n      <td>0.9747</td>\n      <td>3.371103</td>\n      <td>134.844103</td>\n      <td>0.29</td>\n      <td>1</td>\n      <td>1</td>\n    </tr>\n  </tbody>\n</table>\n</div>"
     },
     "metadata": {},
     "output_type": "display_data"
    }
   ],
   "source": [
    "import pandas as pd\n",
    "df = pd.read_csv(\"./data/e2e_table.csv\")\n",
    "display(df)"
   ]
  },
  {
   "cell_type": "code",
   "execution_count": 2,
   "id": "e3ae4fd8-cefb-4cb6-999e-e810bb80ed4a",
   "metadata": {},
   "outputs": [
    {
     "name": "stdout",
     "output_type": "stream",
     "text": [
      "\n",
      "\\begin{table}\n",
      "    \\centering\n",
      "    \\resizebox{\\columnwidth}{!}{%\n",
      "    \\begin{tabular}{lrcrrrcrr}\n",
      "        \\toprule\n",
      "             & Acc.               && \\multicolumn{3}{c}{Computation Time} & & \\multicolumn{2}{c}{Bandwidth} \\\\\n",
      "             \\cline{4-6}\\cline{8-9}\n",
      "        Type & [R40] && Round [s] & Total [m] & Factor & & Total [GB] & Factor \\\\\n",
      "        \\toprule\n",
      "        \\multicolumn{9}{c}{\\textsc{MNIST} (19k params, rsl 5k params)} \\\\\n",
      "        plain & 0.97 & & 3 & 2 & 1x & & 0.3 & 1x \\\\\n",
      "        $L_2$ & 0.97 & & 132 & 88 & 39x & & 10.8 & 37x \\\\\n",
      "        $L_2^{(rsl)}$ & 0.97 & & 26 & 17 & 8x & & 2.8 & 10x \\\\\n",
      "        $L_\\infty$ & 0.97 & & 124 & 82 & 37x & & 7.2 & 25x \\\\\n",
      "        $L_\\infty^{(p)}$ & 0.97 & & 20 & 13 & 6x & & 7.2 & 25x \\\\\n",
      "        \\toprule\n",
      "        \\multicolumn{9}{c}{\\textsc{CIFAR-10 S} (62k params, rsl 12k params)} \\\\\n",
      "        plain & 0.54 & & 2 & 1 & 1x & & 0.9 & 1x \\\\\n",
      "        $L_2$ & 0.54 & & 282 & 183 & 134x & & 34.8 & 37x \\\\\n",
      "        $L_2^{(rsl)}$ & 0.54 & & 53 & 35 & 25x & & 6.7 & 7x \\\\\n",
      "        $L_\\infty$ & 0.54 & & 252 & 164 & 120x & & 23.3 & 25x \\\\\n",
      "        $L_\\infty^{(p)}$ & 0.54 & & 38 & 25 & 18x & & 23.3 & 25x \\\\\n",
      "        \\toprule\n",
      "        \\multicolumn{9}{c}{\\textsc{CIFAR-10 L} (273k params)} \\\\\n",
      "        plain & 0.66 & & 21 & 14 & 1x & & 4.2 & 1x \\\\\n",
      "        $L_\\infty^{(p)}$ & 0.65 & & 131 & 85 & 6x & & 102.8 & 25x \\\\\n",
      "        \\bottomrule\n",
      "    \\end{tabular}\n",
      "    }\n",
      "\\end{table}\n",
      "\n"
     ]
    }
   ],
   "source": [
    "header = r\"\"\"\n",
    "\\begin{table}\n",
    "    \\centering\n",
    "    \\resizebox{\\columnwidth}{!}{%\n",
    "    \\begin{tabular}{lrcrrrcrr}\n",
    "        \\toprule\n",
    "             & Acc.               && \\multicolumn{3}{c}{Computation Time} & & \\multicolumn{2}{c}{Bandwidth} \\\\\n",
    "             \\cline{4-6}\\cline{8-9}\n",
    "        Type & [R40] && Round [s] & Total [m] & Factor & & Total [GB] & Factor \\\\\"\"\"\n",
    "\n",
    "\n",
    "mnist_header = r\"\"\"        \\toprule\n",
    "        \\multicolumn{9}{c}{\\textsc{MNIST} (19k params, rsl 5k params)} \\\\\"\"\"\n",
    "\n",
    "cifar_small_header = r\"\"\"        \\toprule\n",
    "        \\multicolumn{9}{c}{\\textsc{CIFAR-10 S} (62k params, rsl 12k params)} \\\\\"\"\"\n",
    "\n",
    "cifar_large_header = r\"\"\"        \\toprule\n",
    "        \\multicolumn{9}{c}{\\textsc{CIFAR-10 L} (273k params)} \\\\\"\"\"\n",
    "\n",
    "footer = r\"\"\"        \\bottomrule\n",
    "    \\end{tabular}\n",
    "    }\n",
    "\\end{table}\n",
    "\"\"\"\n",
    "\n",
    "type_order = {\n",
    "    \"plain\": 0,\n",
    "    \"l2\": 1,\n",
    "    \"l2_opt\": 2,\n",
    "    \"linf\": 3,\n",
    "    \"linf_opt\": 4\n",
    "}\n",
    "\n",
    "df['type_order'] = df['type'].map(type_order)\n",
    "df = df.sort_values(by=[\"dataset\", \"type_order\"])\n",
    "\n",
    "type_print = {\n",
    "    \"plain\": r\"plain\",\n",
    "    \"l2\": r\"$L_2$\",\n",
    "    \"l2_opt\": r\"$L_2^{(rsl)}$\",\n",
    "    \"linf\": r\"$L_\\infty$\",\n",
    "    \"linf_opt\": r\"$L_\\infty^{(p)}$\"\n",
    "}\n",
    "\n",
    "\n",
    "def format_row(x):\n",
    "    # total_time = f\"{round(x.sum_s/60)}m\" if round(x.sum_s/60) > 0 else f\"{round(x.sum_s)}s\"\n",
    "    return fr\"{type_print[x.type]} & {round(x.acc, 2)} & & {round(x.mean_s)} & {round(x.sum_s/60)} & {x.mean_factor}x & & {round(x.bandwidth_GB,1)} & {x.bw_factor}x \\\\\"\n",
    "\n",
    "# PRINT THE LATEX TABLE\n",
    "\n",
    "print(header)\n",
    "\n",
    "print(mnist_header)\n",
    "\n",
    "\n",
    "for row in df[df[\"dataset\"]==\"MNIST\"].itertuples():\n",
    "    print(\"        \" + format_row(row))\n",
    "\n",
    "print(cifar_small_header)\n",
    "    \n",
    "for row in df[df[\"dataset\"]==\"CIFAR Small\"].itertuples():\n",
    "    print(\"        \" + format_row(row))\n",
    "\n",
    "print(cifar_large_header)\n",
    "    \n",
    "for row in df[df[\"dataset\"]==\"CIFAR Large\"].itertuples():\n",
    "    print(\"        \" + format_row(row))\n",
    "\n",
    "    \n",
    "print(footer)\n",
    "\n"
   ]
  },
  {
   "cell_type": "code",
   "execution_count": 2,
   "id": "042826cc-aed0-46ec-9db7-7cdaf7470c8c",
   "metadata": {},
   "outputs": [],
   "source": []
  }
 ],
 "metadata": {
  "kernelspec": {
   "name": "python3",
   "language": "python",
   "display_name": "Python 3"
  },
  "language_info": {
   "codemirror_mode": {
    "name": "ipython",
    "version": 3
   },
   "file_extension": ".py",
   "mimetype": "text/x-python",
   "name": "python",
   "nbconvert_exporter": "python",
   "pygments_lexer": "ipython3",
   "version": "3.8.5"
  }
 },
 "nbformat": 4,
 "nbformat_minor": 5
}