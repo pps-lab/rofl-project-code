{
 "cells": [
  {
   "cell_type": "code",
   "execution_count": 1,
   "metadata": {},
   "outputs": [],
   "source": [
    "from IPython.display import clear_output\n",
    "\n",
    "clear_output()"
   ]
  },
  {
   "cell_type": "markdown",
   "metadata": {
    "pycharm": {
     "name": "#%% md\n"
    }
   },
   "source": [
    "# Plots for RoFL paper\n"
   ]
  },
  {
   "cell_type": "markdown",
   "metadata": {
    "pycharm": {
     "name": "#%% md\n"
    }
   },
   "source": [
    "## Single-shot\n",
    "\n",
    "#### FEMNIST"
   ]
  },
  {
   "cell_type": "code",
   "execution_count": 2,
   "metadata": {
    "pycharm": {
     "name": "#%%\n"
    }
   },
   "outputs": [
    {
     "name": "stdout",
     "output_type": "stream",
     "text": [
      "<pymongo.cursor.Cursor object at 0x7fddf8571f40>\n"
     ]
    },
    {
     "ename": "ServerSelectionTimeoutError",
     "evalue": "localhost:27017: [Errno 111] Connection refused, Timeout: 30s, Topology Description: <TopologyDescription id: 61e02f843c8ccf5bc462deba, topology_type: Single, servers: [<ServerDescription ('localhost', 27017) server_type: Unknown, rtt: None, error=AutoReconnect('localhost:27017: [Errno 111] Connection refused')>]>",
     "output_type": "error",
     "traceback": [
      "\u001b[0;31m---------------------------------------------------------------------------\u001b[0m",
      "\u001b[0;31mServerSelectionTimeoutError\u001b[0m               Traceback (most recent call last)",
      "\u001b[0;32m/tmp/ipykernel_33590/155130371.py\u001b[0m in \u001b[0;36m<module>\u001b[0;34m\u001b[0m\n\u001b[1;32m      2\u001b[0m \u001b[0;32mimport\u001b[0m \u001b[0mplots\u001b[0m\u001b[0;34m.\u001b[0m\u001b[0msingle_shot\u001b[0m \u001b[0;32mas\u001b[0m \u001b[0msingle_shot\u001b[0m\u001b[0;34m\u001b[0m\u001b[0;34m\u001b[0m\u001b[0m\n\u001b[1;32m      3\u001b[0m \u001b[0;34m\u001b[0m\u001b[0m\n\u001b[0;32m----> 4\u001b[0;31m \u001b[0mdf\u001b[0m \u001b[0;34m=\u001b[0m \u001b[0msingle_shot\u001b[0m\u001b[0;34m.\u001b[0m\u001b[0mload_data_femnist\u001b[0m\u001b[0;34m(\u001b[0m\u001b[0;34m)\u001b[0m\u001b[0;34m\u001b[0m\u001b[0;34m\u001b[0m\u001b[0m\n\u001b[0m\u001b[1;32m      5\u001b[0m \u001b[0mdf\u001b[0m \u001b[0;34m=\u001b[0m \u001b[0mdf\u001b[0m\u001b[0;34m[\u001b[0m\u001b[0mdf\u001b[0m\u001b[0;34m[\u001b[0m\u001b[0;34m'round'\u001b[0m\u001b[0;34m]\u001b[0m \u001b[0;34m<=\u001b[0m \u001b[0;36m10\u001b[0m\u001b[0;34m]\u001b[0m\u001b[0;34m\u001b[0m\u001b[0;34m\u001b[0m\u001b[0m\n\u001b[1;32m      6\u001b[0m \u001b[0mdisplay\u001b[0m\u001b[0;34m(\u001b[0m\u001b[0mdf\u001b[0m\u001b[0;34m.\u001b[0m\u001b[0mcolumns\u001b[0m\u001b[0;34m)\u001b[0m\u001b[0;34m\u001b[0m\u001b[0;34m\u001b[0m\u001b[0m\n",
      "\u001b[0;32m~/dev/rofl-project-code/plots/plots/single_shot.py\u001b[0m in \u001b[0;36mload_data_femnist\u001b[0;34m()\u001b[0m\n\u001b[1;32m     22\u001b[0m     }\n\u001b[1;32m     23\u001b[0m \u001b[0;34m\u001b[0m\u001b[0m\n\u001b[0;32m---> 24\u001b[0;31m     \u001b[0mdocs_list\u001b[0m \u001b[0;34m=\u001b[0m \u001b[0mquery_data\u001b[0m\u001b[0;34m(\u001b[0m\u001b[0mquery\u001b[0m\u001b[0;34m)\u001b[0m\u001b[0;34m\u001b[0m\u001b[0;34m\u001b[0m\u001b[0m\n\u001b[0m\u001b[1;32m     25\u001b[0m \u001b[0;34m\u001b[0m\u001b[0m\n\u001b[1;32m     26\u001b[0m     \u001b[0mmetrics\u001b[0m \u001b[0;34m=\u001b[0m \u001b[0;34m[\u001b[0m\u001b[0mpd\u001b[0m\u001b[0;34m.\u001b[0m\u001b[0mDataFrame\u001b[0m\u001b[0;34m.\u001b[0m\u001b[0mfrom_dict\u001b[0m\u001b[0;34m(\u001b[0m\u001b[0mdoc\u001b[0m\u001b[0;34m)\u001b[0m \u001b[0;32mfor\u001b[0m \u001b[0mdoc\u001b[0m \u001b[0;32min\u001b[0m \u001b[0mdocs_list\u001b[0m\u001b[0;34m]\u001b[0m\u001b[0;34m\u001b[0m\u001b[0;34m\u001b[0m\u001b[0m\n",
      "\u001b[0;32m~/dev/rofl-project-code/plots/common.py\u001b[0m in \u001b[0;36mquery_data\u001b[0;34m(query)\u001b[0m\n\u001b[1;32m     29\u001b[0m \u001b[0;32mdef\u001b[0m \u001b[0mquery_data\u001b[0m\u001b[0;34m(\u001b[0m\u001b[0mquery\u001b[0m\u001b[0;34m)\u001b[0m\u001b[0;34m:\u001b[0m\u001b[0;34m\u001b[0m\u001b[0;34m\u001b[0m\u001b[0m\n\u001b[1;32m     30\u001b[0m     \u001b[0;32mif\u001b[0m \u001b[0mdata_source\u001b[0m \u001b[0;34m==\u001b[0m \u001b[0;34m\"mongodb\"\u001b[0m\u001b[0;34m:\u001b[0m\u001b[0;34m\u001b[0m\u001b[0;34m\u001b[0m\u001b[0m\n\u001b[0;32m---> 31\u001b[0;31m         \u001b[0;32mreturn\u001b[0m \u001b[0m_query_mongo\u001b[0m\u001b[0;34m(\u001b[0m\u001b[0mquery\u001b[0m\u001b[0;34m)\u001b[0m\u001b[0;34m\u001b[0m\u001b[0;34m\u001b[0m\u001b[0m\n\u001b[0m\u001b[1;32m     32\u001b[0m     \u001b[0;32melif\u001b[0m \u001b[0mdata_source\u001b[0m \u001b[0;34m==\u001b[0m \u001b[0;34m\"json\"\u001b[0m\u001b[0;34m:\u001b[0m\u001b[0;34m\u001b[0m\u001b[0;34m\u001b[0m\u001b[0m\n\u001b[1;32m     33\u001b[0m         \u001b[0;32mraise\u001b[0m \u001b[0mNotImplementedError\u001b[0m\u001b[0;34m(\u001b[0m\u001b[0;34m\"JSON source not yet supported\"\u001b[0m\u001b[0;34m)\u001b[0m\u001b[0;34m\u001b[0m\u001b[0;34m\u001b[0m\u001b[0m\n",
      "\u001b[0;32m~/dev/rofl-project-code/plots/common.py\u001b[0m in \u001b[0;36m_query_mongo\u001b[0;34m(query)\u001b[0m\n\u001b[1;32m     22\u001b[0m     \u001b[0mdocs\u001b[0m \u001b[0;34m=\u001b[0m \u001b[0mdb\u001b[0m\u001b[0;34m[\u001b[0m\u001b[0;34m'experiments'\u001b[0m\u001b[0;34m]\u001b[0m\u001b[0;34m.\u001b[0m\u001b[0mfind\u001b[0m\u001b[0;34m(\u001b[0m\u001b[0mquery\u001b[0m\u001b[0;34m)\u001b[0m\u001b[0;34m\u001b[0m\u001b[0;34m\u001b[0m\u001b[0m\n\u001b[1;32m     23\u001b[0m     \u001b[0mprint\u001b[0m\u001b[0;34m(\u001b[0m\u001b[0mdocs\u001b[0m\u001b[0;34m)\u001b[0m\u001b[0;34m\u001b[0m\u001b[0;34m\u001b[0m\u001b[0m\n\u001b[0;32m---> 24\u001b[0;31m     \u001b[0mresults\u001b[0m \u001b[0;34m=\u001b[0m \u001b[0mlist\u001b[0m\u001b[0;34m(\u001b[0m\u001b[0mdocs\u001b[0m\u001b[0;34m)\u001b[0m\u001b[0;34m\u001b[0m\u001b[0;34m\u001b[0m\u001b[0m\n\u001b[0m\u001b[1;32m     25\u001b[0m     \u001b[0mprint\u001b[0m\u001b[0;34m(\u001b[0m\u001b[0;34m[\u001b[0m\u001b[0mr\u001b[0m\u001b[0;34m[\u001b[0m\u001b[0;34m\"_id\"\u001b[0m\u001b[0;34m]\u001b[0m \u001b[0;32mfor\u001b[0m \u001b[0mr\u001b[0m \u001b[0;32min\u001b[0m \u001b[0mresults\u001b[0m\u001b[0;34m]\u001b[0m\u001b[0;34m)\u001b[0m\u001b[0;34m\u001b[0m\u001b[0;34m\u001b[0m\u001b[0m\n\u001b[1;32m     26\u001b[0m     \u001b[0;32mreturn\u001b[0m \u001b[0mresults\u001b[0m\u001b[0;34m\u001b[0m\u001b[0;34m\u001b[0m\u001b[0m\n",
      "\u001b[0;32m~/.local/share/virtualenvs/rofl-project-code-8kQbh7a4/lib/python3.8/site-packages/pymongo/cursor.py\u001b[0m in \u001b[0;36mnext\u001b[0;34m(self)\u001b[0m\n\u001b[1;32m   1236\u001b[0m         \u001b[0;32mif\u001b[0m \u001b[0mself\u001b[0m\u001b[0;34m.\u001b[0m\u001b[0m__empty\u001b[0m\u001b[0;34m:\u001b[0m\u001b[0;34m\u001b[0m\u001b[0;34m\u001b[0m\u001b[0m\n\u001b[1;32m   1237\u001b[0m             \u001b[0;32mraise\u001b[0m \u001b[0mStopIteration\u001b[0m\u001b[0;34m\u001b[0m\u001b[0;34m\u001b[0m\u001b[0m\n\u001b[0;32m-> 1238\u001b[0;31m         \u001b[0;32mif\u001b[0m \u001b[0mlen\u001b[0m\u001b[0;34m(\u001b[0m\u001b[0mself\u001b[0m\u001b[0;34m.\u001b[0m\u001b[0m__data\u001b[0m\u001b[0;34m)\u001b[0m \u001b[0;32mor\u001b[0m \u001b[0mself\u001b[0m\u001b[0;34m.\u001b[0m\u001b[0m_refresh\u001b[0m\u001b[0;34m(\u001b[0m\u001b[0;34m)\u001b[0m\u001b[0;34m:\u001b[0m\u001b[0;34m\u001b[0m\u001b[0;34m\u001b[0m\u001b[0m\n\u001b[0m\u001b[1;32m   1239\u001b[0m             \u001b[0;32mif\u001b[0m \u001b[0mself\u001b[0m\u001b[0;34m.\u001b[0m\u001b[0m__manipulate\u001b[0m\u001b[0;34m:\u001b[0m\u001b[0;34m\u001b[0m\u001b[0;34m\u001b[0m\u001b[0m\n\u001b[1;32m   1240\u001b[0m                 \u001b[0m_db\u001b[0m \u001b[0;34m=\u001b[0m \u001b[0mself\u001b[0m\u001b[0;34m.\u001b[0m\u001b[0m__collection\u001b[0m\u001b[0;34m.\u001b[0m\u001b[0mdatabase\u001b[0m\u001b[0;34m\u001b[0m\u001b[0;34m\u001b[0m\u001b[0m\n",
      "\u001b[0;32m~/.local/share/virtualenvs/rofl-project-code-8kQbh7a4/lib/python3.8/site-packages/pymongo/cursor.py\u001b[0m in \u001b[0;36m_refresh\u001b[0;34m(self)\u001b[0m\n\u001b[1;32m   1128\u001b[0m \u001b[0;34m\u001b[0m\u001b[0m\n\u001b[1;32m   1129\u001b[0m         \u001b[0;32mif\u001b[0m \u001b[0;32mnot\u001b[0m \u001b[0mself\u001b[0m\u001b[0;34m.\u001b[0m\u001b[0m__session\u001b[0m\u001b[0;34m:\u001b[0m\u001b[0;34m\u001b[0m\u001b[0;34m\u001b[0m\u001b[0m\n\u001b[0;32m-> 1130\u001b[0;31m             \u001b[0mself\u001b[0m\u001b[0;34m.\u001b[0m\u001b[0m__session\u001b[0m \u001b[0;34m=\u001b[0m \u001b[0mself\u001b[0m\u001b[0;34m.\u001b[0m\u001b[0m__collection\u001b[0m\u001b[0;34m.\u001b[0m\u001b[0mdatabase\u001b[0m\u001b[0;34m.\u001b[0m\u001b[0mclient\u001b[0m\u001b[0;34m.\u001b[0m\u001b[0m_ensure_session\u001b[0m\u001b[0;34m(\u001b[0m\u001b[0;34m)\u001b[0m\u001b[0;34m\u001b[0m\u001b[0;34m\u001b[0m\u001b[0m\n\u001b[0m\u001b[1;32m   1131\u001b[0m \u001b[0;34m\u001b[0m\u001b[0m\n\u001b[1;32m   1132\u001b[0m         \u001b[0;32mif\u001b[0m \u001b[0mself\u001b[0m\u001b[0;34m.\u001b[0m\u001b[0m__id\u001b[0m \u001b[0;32mis\u001b[0m \u001b[0;32mNone\u001b[0m\u001b[0;34m:\u001b[0m  \u001b[0;31m# Query\u001b[0m\u001b[0;34m\u001b[0m\u001b[0;34m\u001b[0m\u001b[0m\n",
      "\u001b[0;32m~/.local/share/virtualenvs/rofl-project-code-8kQbh7a4/lib/python3.8/site-packages/pymongo/mongo_client.py\u001b[0m in \u001b[0;36m_ensure_session\u001b[0;34m(self, session)\u001b[0m\n\u001b[1;32m   1933\u001b[0m             \u001b[0;31m# Don't make implicit sessions causally consistent. Applications\u001b[0m\u001b[0;34m\u001b[0m\u001b[0;34m\u001b[0m\u001b[0;34m\u001b[0m\u001b[0m\n\u001b[1;32m   1934\u001b[0m             \u001b[0;31m# should always opt-in.\u001b[0m\u001b[0;34m\u001b[0m\u001b[0;34m\u001b[0m\u001b[0;34m\u001b[0m\u001b[0m\n\u001b[0;32m-> 1935\u001b[0;31m             \u001b[0;32mreturn\u001b[0m \u001b[0mself\u001b[0m\u001b[0;34m.\u001b[0m\u001b[0m__start_session\u001b[0m\u001b[0;34m(\u001b[0m\u001b[0;32mTrue\u001b[0m\u001b[0;34m,\u001b[0m \u001b[0mcausal_consistency\u001b[0m\u001b[0;34m=\u001b[0m\u001b[0;32mFalse\u001b[0m\u001b[0;34m)\u001b[0m\u001b[0;34m\u001b[0m\u001b[0;34m\u001b[0m\u001b[0m\n\u001b[0m\u001b[1;32m   1936\u001b[0m         \u001b[0;32mexcept\u001b[0m \u001b[0;34m(\u001b[0m\u001b[0mConfigurationError\u001b[0m\u001b[0;34m,\u001b[0m \u001b[0mInvalidOperation\u001b[0m\u001b[0;34m)\u001b[0m\u001b[0;34m:\u001b[0m\u001b[0;34m\u001b[0m\u001b[0;34m\u001b[0m\u001b[0m\n\u001b[1;32m   1937\u001b[0m             \u001b[0;31m# Sessions not supported, or multiple users authenticated.\u001b[0m\u001b[0;34m\u001b[0m\u001b[0;34m\u001b[0m\u001b[0;34m\u001b[0m\u001b[0m\n",
      "\u001b[0;32m~/.local/share/virtualenvs/rofl-project-code-8kQbh7a4/lib/python3.8/site-packages/pymongo/mongo_client.py\u001b[0m in \u001b[0;36m__start_session\u001b[0;34m(self, implicit, **kwargs)\u001b[0m\n\u001b[1;32m   1881\u001b[0m \u001b[0;34m\u001b[0m\u001b[0m\n\u001b[1;32m   1882\u001b[0m         \u001b[0;31m# Raises ConfigurationError if sessions are not supported.\u001b[0m\u001b[0;34m\u001b[0m\u001b[0;34m\u001b[0m\u001b[0;34m\u001b[0m\u001b[0m\n\u001b[0;32m-> 1883\u001b[0;31m         \u001b[0mserver_session\u001b[0m \u001b[0;34m=\u001b[0m \u001b[0mself\u001b[0m\u001b[0;34m.\u001b[0m\u001b[0m_get_server_session\u001b[0m\u001b[0;34m(\u001b[0m\u001b[0;34m)\u001b[0m\u001b[0;34m\u001b[0m\u001b[0;34m\u001b[0m\u001b[0m\n\u001b[0m\u001b[1;32m   1884\u001b[0m         \u001b[0mopts\u001b[0m \u001b[0;34m=\u001b[0m \u001b[0mclient_session\u001b[0m\u001b[0;34m.\u001b[0m\u001b[0mSessionOptions\u001b[0m\u001b[0;34m(\u001b[0m\u001b[0;34m**\u001b[0m\u001b[0mkwargs\u001b[0m\u001b[0;34m)\u001b[0m\u001b[0;34m\u001b[0m\u001b[0;34m\u001b[0m\u001b[0m\n\u001b[1;32m   1885\u001b[0m         return client_session.ClientSession(\n",
      "\u001b[0;32m~/.local/share/virtualenvs/rofl-project-code-8kQbh7a4/lib/python3.8/site-packages/pymongo/mongo_client.py\u001b[0m in \u001b[0;36m_get_server_session\u001b[0;34m(self)\u001b[0m\n\u001b[1;32m   1919\u001b[0m     \u001b[0;32mdef\u001b[0m \u001b[0m_get_server_session\u001b[0m\u001b[0;34m(\u001b[0m\u001b[0mself\u001b[0m\u001b[0;34m)\u001b[0m\u001b[0;34m:\u001b[0m\u001b[0;34m\u001b[0m\u001b[0;34m\u001b[0m\u001b[0m\n\u001b[1;32m   1920\u001b[0m         \u001b[0;34m\"\"\"Internal: start or resume a _ServerSession.\"\"\"\u001b[0m\u001b[0;34m\u001b[0m\u001b[0;34m\u001b[0m\u001b[0m\n\u001b[0;32m-> 1921\u001b[0;31m         \u001b[0;32mreturn\u001b[0m \u001b[0mself\u001b[0m\u001b[0;34m.\u001b[0m\u001b[0m_topology\u001b[0m\u001b[0;34m.\u001b[0m\u001b[0mget_server_session\u001b[0m\u001b[0;34m(\u001b[0m\u001b[0;34m)\u001b[0m\u001b[0;34m\u001b[0m\u001b[0;34m\u001b[0m\u001b[0m\n\u001b[0m\u001b[1;32m   1922\u001b[0m \u001b[0;34m\u001b[0m\u001b[0m\n\u001b[1;32m   1923\u001b[0m     \u001b[0;32mdef\u001b[0m \u001b[0m_return_server_session\u001b[0m\u001b[0;34m(\u001b[0m\u001b[0mself\u001b[0m\u001b[0;34m,\u001b[0m \u001b[0mserver_session\u001b[0m\u001b[0;34m,\u001b[0m \u001b[0mlock\u001b[0m\u001b[0;34m)\u001b[0m\u001b[0;34m:\u001b[0m\u001b[0;34m\u001b[0m\u001b[0;34m\u001b[0m\u001b[0m\n",
      "\u001b[0;32m~/.local/share/virtualenvs/rofl-project-code-8kQbh7a4/lib/python3.8/site-packages/pymongo/topology.py\u001b[0m in \u001b[0;36mget_server_session\u001b[0;34m(self)\u001b[0m\n\u001b[1;32m    518\u001b[0m             \u001b[0;31m# Sessions are always supported in load balanced mode.\u001b[0m\u001b[0;34m\u001b[0m\u001b[0;34m\u001b[0m\u001b[0;34m\u001b[0m\u001b[0m\n\u001b[1;32m    519\u001b[0m             \u001b[0;32mif\u001b[0m \u001b[0;32mnot\u001b[0m \u001b[0mself\u001b[0m\u001b[0;34m.\u001b[0m\u001b[0m_settings\u001b[0m\u001b[0;34m.\u001b[0m\u001b[0mload_balanced\u001b[0m\u001b[0;34m:\u001b[0m\u001b[0;34m\u001b[0m\u001b[0;34m\u001b[0m\u001b[0m\n\u001b[0;32m--> 520\u001b[0;31m                 \u001b[0msession_timeout\u001b[0m \u001b[0;34m=\u001b[0m \u001b[0mself\u001b[0m\u001b[0;34m.\u001b[0m\u001b[0m_check_session_support\u001b[0m\u001b[0;34m(\u001b[0m\u001b[0;34m)\u001b[0m\u001b[0;34m\u001b[0m\u001b[0;34m\u001b[0m\u001b[0m\n\u001b[0m\u001b[1;32m    521\u001b[0m             \u001b[0;32melse\u001b[0m\u001b[0;34m:\u001b[0m\u001b[0;34m\u001b[0m\u001b[0;34m\u001b[0m\u001b[0m\n\u001b[1;32m    522\u001b[0m                 \u001b[0;31m# Sessions never time out in load balanced mode.\u001b[0m\u001b[0;34m\u001b[0m\u001b[0;34m\u001b[0m\u001b[0;34m\u001b[0m\u001b[0m\n",
      "\u001b[0;32m~/.local/share/virtualenvs/rofl-project-code-8kQbh7a4/lib/python3.8/site-packages/pymongo/topology.py\u001b[0m in \u001b[0;36m_check_session_support\u001b[0;34m(self)\u001b[0m\n\u001b[1;32m    497\u001b[0m             \u001b[0;32mif\u001b[0m \u001b[0mself\u001b[0m\u001b[0;34m.\u001b[0m\u001b[0m_description\u001b[0m\u001b[0;34m.\u001b[0m\u001b[0mtopology_type\u001b[0m \u001b[0;34m==\u001b[0m \u001b[0mTOPOLOGY_TYPE\u001b[0m\u001b[0;34m.\u001b[0m\u001b[0mSingle\u001b[0m\u001b[0;34m:\u001b[0m\u001b[0;34m\u001b[0m\u001b[0;34m\u001b[0m\u001b[0m\n\u001b[1;32m    498\u001b[0m                 \u001b[0;32mif\u001b[0m \u001b[0;32mnot\u001b[0m \u001b[0mself\u001b[0m\u001b[0;34m.\u001b[0m\u001b[0m_description\u001b[0m\u001b[0;34m.\u001b[0m\u001b[0mhas_known_servers\u001b[0m\u001b[0;34m:\u001b[0m\u001b[0;34m\u001b[0m\u001b[0;34m\u001b[0m\u001b[0m\n\u001b[0;32m--> 499\u001b[0;31m                     self._select_servers_loop(\n\u001b[0m\u001b[1;32m    500\u001b[0m                         \u001b[0many_server_selector\u001b[0m\u001b[0;34m,\u001b[0m\u001b[0;34m\u001b[0m\u001b[0;34m\u001b[0m\u001b[0m\n\u001b[1;32m    501\u001b[0m                         \u001b[0mself\u001b[0m\u001b[0;34m.\u001b[0m\u001b[0m_settings\u001b[0m\u001b[0;34m.\u001b[0m\u001b[0mserver_selection_timeout\u001b[0m\u001b[0;34m,\u001b[0m\u001b[0;34m\u001b[0m\u001b[0;34m\u001b[0m\u001b[0m\n",
      "\u001b[0;32m~/.local/share/virtualenvs/rofl-project-code-8kQbh7a4/lib/python3.8/site-packages/pymongo/topology.py\u001b[0m in \u001b[0;36m_select_servers_loop\u001b[0;34m(self, selector, timeout, address)\u001b[0m\n\u001b[1;32m    216\u001b[0m             \u001b[0;31m# No suitable servers.\u001b[0m\u001b[0;34m\u001b[0m\u001b[0;34m\u001b[0m\u001b[0;34m\u001b[0m\u001b[0m\n\u001b[1;32m    217\u001b[0m             \u001b[0;32mif\u001b[0m \u001b[0mtimeout\u001b[0m \u001b[0;34m==\u001b[0m \u001b[0;36m0\u001b[0m \u001b[0;32mor\u001b[0m \u001b[0mnow\u001b[0m \u001b[0;34m>\u001b[0m \u001b[0mend_time\u001b[0m\u001b[0;34m:\u001b[0m\u001b[0;34m\u001b[0m\u001b[0;34m\u001b[0m\u001b[0m\n\u001b[0;32m--> 218\u001b[0;31m                 raise ServerSelectionTimeoutError(\n\u001b[0m\u001b[1;32m    219\u001b[0m                     \u001b[0;34m\"%s, Timeout: %ss, Topology Description: %r\"\u001b[0m \u001b[0;34m%\u001b[0m\u001b[0;34m\u001b[0m\u001b[0;34m\u001b[0m\u001b[0m\n\u001b[1;32m    220\u001b[0m                     (self._error_message(selector), timeout, self.description))\n",
      "\u001b[0;31mServerSelectionTimeoutError\u001b[0m: localhost:27017: [Errno 111] Connection refused, Timeout: 30s, Topology Description: <TopologyDescription id: 61e02f843c8ccf5bc462deba, topology_type: Single, servers: [<ServerDescription ('localhost', 27017) server_type: Unknown, rtt: None, error=AutoReconnect('localhost:27017: [Errno 111] Connection refused')>]>"
     ]
    }
   ],
   "source": [
    "# TODO: Single-shot FEMNIST, CIFAR10\n",
    "import plots.single_shot as single_shot\n",
    "\n",
    "df = single_shot.load_data_femnist()\n",
    "df = df[df['round'] <= 10]\n",
    "display(df.columns)\n",
    "fig, df = single_shot.build_plot_tight(\"femnist_single_shot_static_tight\", df, 'FEMNIST', True)\n",
    "\n",
    "display(fig)\n",
    "display(df[df[\"round\"] >= 0])"
   ]
  },
  {
   "cell_type": "markdown",
   "metadata": {
    "pycharm": {
     "name": "#%% md\n"
    }
   },
   "source": [
    "#### CIFAR"
   ]
  },
  {
   "cell_type": "code",
   "execution_count": null,
   "metadata": {
    "pycharm": {
     "name": "#%%\n"
    }
   },
   "outputs": [],
   "source": [
    "# TODO: Single-shot FEMNIST, CIFAR10\n",
    "import plots.single_shot as single_shot\n",
    "\n",
    "df = single_shot.load_data_cifar()\n",
    "df = df[df['round'] <= 10]\n",
    "display(df.columns)\n",
    "fig, df = single_shot.build_plot_tight(\"cifar_single_shot_static_tight\", df, 'CIFAR10', False)\n",
    "\n",
    "display(fig)"
   ]
  },
  {
   "cell_type": "code",
   "execution_count": null,
   "metadata": {
    "collapsed": false,
    "pycharm": {
     "name": "#%%\n"
    }
   },
   "outputs": [],
   "source": [
    "# df = single_shot.load_data_cifar()\n",
    "# fig, _ = single_shot.build_plot(\"cifar_single_shot_static\", df, 'CIFAR10_defenses')\n",
    "# display(fig)\n",
    "# display(df[df[\"round\"] <= 10])"
   ]
  },
  {
   "cell_type": "markdown",
   "metadata": {
    "pycharm": {
     "name": "#%% md\n"
    }
   },
   "source": [
    "## Continuous bounds\n",
    "* __TODO:__ Do we add a baseline (no attack) in the experiments as well?\n",
    "\n",
    "### Static bounds"
   ]
  },
  {
   "cell_type": "markdown",
   "metadata": {},
   "source": [
    "#### FEMNIST"
   ]
  },
  {
   "cell_type": "code",
   "execution_count": null,
   "metadata": {
    "pycharm": {
     "name": "#%%\n"
    }
   },
   "outputs": [],
   "source": [
    "import plots.continuous as continuous\n",
    "\n",
    "df = continuous.load_continuous_bound_data('FEMNIST', None)\n",
    "display(df.columns)\n",
    "fig, df = continuous.build_continuous_static_plot(\"femnist_continuous_bound_static\", df, 'FEMNIST')\n",
    "\n",
    "display(fig)\n",
    "display(df)"
   ]
  },
  {
   "cell_type": "markdown",
   "metadata": {
    "pycharm": {
     "name": "#%% md\n"
    }
   },
   "source": [
    "#### CIFAR"
   ]
  },
  {
   "cell_type": "code",
   "execution_count": null,
   "metadata": {
    "pycharm": {
     "name": "#%%\n"
    }
   },
   "outputs": [],
   "source": [
    "import plots.continuous as continuous\n",
    "\n",
    "df = continuous.load_continuous_bound_data('CIFAR10', 'static')\n",
    "display(df.columns)\n",
    "# df = df[df[\"round\"] <= 800]\n",
    "fig, df = continuous.build_continuous_static_plot(\"cifar10_continuous_bound_static\", df, 'CIFAR10', leftmost=False)\n",
    "\n",
    "display(fig)\n",
    "display(df)"
   ]
  },
  {
   "cell_type": "markdown",
   "metadata": {
    "pycharm": {
     "name": "#%% md\n"
    }
   },
   "source": [
    "### Median\n",
    "\n",
    "* For FEMNIST, we seem to be able to increase the median bound by quite a lot."
   ]
  },
  {
   "cell_type": "markdown",
   "metadata": {},
   "source": [
    "#### FEMNIST"
   ]
  },
  {
   "cell_type": "code",
   "execution_count": null,
   "metadata": {
    "pycharm": {
     "name": "#%%\n"
    }
   },
   "outputs": [],
   "source": [
    "import plots.continuous as continuous\n",
    "\n",
    "df = continuous.load_continuous_bound_data('FEMNIST', None)\n",
    "fig, df = continuous.build_continuous_median_plot(\"femnist_continuous_bound_median_tight\", df, 'FEMNIST', leftmost=True)\n",
    "\n",
    "display(fig)\n",
    "display(df)"
   ]
  },
  {
   "cell_type": "markdown",
   "metadata": {},
   "source": [
    "#### CIFAR"
   ]
  },
  {
   "cell_type": "code",
   "execution_count": null,
   "metadata": {
    "pycharm": {
     "name": "#%%\n"
    }
   },
   "outputs": [],
   "source": [
    "import plots.continuous as continuous\n",
    "df = continuous.load_continuous_bound_data('CIFAR10', 'median')\n",
    "display(df.columns)\n",
    "fig, df = continuous.build_continuous_median_plot(\"cifar10_continuous_bound_median_tight\", df, 'CIFAR10')\n",
    "\n",
    "display(fig)\n",
    "display(df)"
   ]
  },
  {
   "cell_type": "markdown",
   "metadata": {
    "pycharm": {
     "name": "#%% md\n"
    }
   },
   "source": [
    "## Increase attacks"
   ]
  },
  {
   "cell_type": "markdown",
   "metadata": {},
   "source": [
    "#### FEMNIST"
   ]
  },
  {
   "cell_type": "code",
   "execution_count": null,
   "metadata": {
    "pycharm": {
     "name": "#%%\n"
    }
   },
   "outputs": [],
   "source": [
    "# TODO: Increase attackers CIFAR10&FEMNIST\n",
    "\n",
    "import plots.increase_attackers as increase_attackers\n",
    "df = increase_attackers.load_data('FEMNIST')\n",
    "display(df.columns)\n",
    "fig, df = increase_attackers.build_plot(\"femnist_increase_attackers_tight\", df, 'FEMNIST', leftmost=True)\n",
    "\n",
    "display(fig)\n",
    "display(df)"
   ]
  },
  {
   "cell_type": "markdown",
   "metadata": {
    "collapsed": false
   },
   "source": [
    "However, what does 27% in a data poisoning setting look like?"
   ]
  },
  {
   "cell_type": "code",
   "execution_count": null,
   "metadata": {
    "collapsed": false,
    "pycharm": {
     "name": "#%%\n"
    }
   },
   "outputs": [],
   "source": [
    "import plots.blackbox_increase_attackers as bb_inc\n",
    "df = bb_inc.load_data_femnist()\n",
    "display(df.columns)\n",
    "fig, df = bb_inc.build_plot(\"femnist_increase_attackers_bb\", df, 'FEMNIST', True)\n",
    "\n",
    "display(fig)\n",
    "display(df)"
   ]
  },
  {
   "cell_type": "markdown",
   "metadata": {},
   "source": [
    "#### CIFAR\n",
    "* TODO: Also run larger bounds."
   ]
  },
  {
   "cell_type": "code",
   "execution_count": null,
   "metadata": {
    "pycharm": {
     "name": "#%%\n"
    }
   },
   "outputs": [],
   "source": [
    "import plots.increase_attackers as increase_attackers\n",
    "\n",
    "df = increase_attackers.load_data('CIFAR10')\n",
    "# df = df[df['round'] <= 800]\n",
    "display(df.columns)\n",
    "fig, df = increase_attackers.build_plot(\"cifar_increase_attackers_tight\", df, 'CIFAR10')\n",
    "\n",
    "display(fig)\n",
    "display(df)"
   ]
  },
  {
   "cell_type": "code",
   "execution_count": null,
   "metadata": {
    "collapsed": false,
    "pycharm": {
     "name": "#%%\n"
    }
   },
   "outputs": [],
   "source": [
    "import plots.blackbox_increase_attackers as bb_inc\n",
    "df = bb_inc.load_data_cifar()\n",
    "display(df.columns)\n",
    "fig, df = bb_inc.build_plot(\"cifar_increase_attackers_bb\", df, 'CIFAR10', False)\n",
    "\n",
    "display(fig)\n",
    "display(df)"
   ]
  },
  {
   "cell_type": "markdown",
   "metadata": {
    "collapsed": false
   },
   "source": [
    "## Comparison with blackbox\n"
   ]
  },
  {
   "cell_type": "markdown",
   "metadata": {
    "collapsed": false
   },
   "source": [
    "Single-shot Outlier"
   ]
  },
  {
   "cell_type": "code",
   "execution_count": null,
   "metadata": {
    "collapsed": false,
    "pycharm": {
     "name": "#%%\n"
    }
   },
   "outputs": [],
   "source": [
    "import plots.single_shot_objective as single_shot_objective\n",
    "\n",
    "df = single_shot_objective.load_data_femnist()\n",
    "display(df.columns)\n",
    "fig, df = single_shot_objective.build_plot(\"femnist_single_shot_outlier\", df, 'FEMNIST', True)\n",
    "\n",
    "display(fig)"
   ]
  },
  {
   "cell_type": "code",
   "execution_count": null,
   "metadata": {
    "collapsed": false,
    "pycharm": {
     "name": "#%%\n"
    }
   },
   "outputs": [],
   "source": [
    "import plots.single_shot_objective as single_shot_objective\n",
    "\n",
    "df = single_shot_objective.load_data_cifar()\n",
    "display(df.columns)\n",
    "fig, df = single_shot_objective.build_plot(\"cifar10_single_shot_outlier\", df, 'CIFAR10', False)\n",
    "\n",
    "display(fig)"
   ]
  },
  {
   "cell_type": "markdown",
   "metadata": {
    "collapsed": false
   },
   "source": [
    "#### FEMNIST\n"
   ]
  },
  {
   "cell_type": "code",
   "execution_count": null,
   "metadata": {
    "collapsed": false,
    "pycharm": {
     "name": "#%%\n"
    }
   },
   "outputs": [],
   "source": [
    "import plots.attack_objective as att_obj\n",
    "\n",
    "# Capped at 500 rounds\n",
    "df = att_obj.load_data_femnist()\n",
    "fig, df = att_obj.build_plot(\"femnist_comparison_blackbox_edge\", df, 'FEMNIST_edge')\n",
    "display(fig)\n",
    "\n",
    "fig, df = att_obj.build_plot(\"femnist_comparison_blackbox_tasks\", df, 'FEMNIST_tasks')\n",
    "display(fig)\n",
    "# display(df[df[\"round\"] >= 40])"
   ]
  },
  {
   "cell_type": "code",
   "execution_count": null,
   "metadata": {
    "collapsed": false,
    "pycharm": {
     "name": "#%%\n"
    }
   },
   "outputs": [],
   "source": [
    "import plots.attack_objective as att_obj\n",
    "\n",
    "# Capped at 500 rounds\n",
    "df = att_obj.load_data_femnist()\n",
    "display(df.columns)\n",
    "fig, df = att_obj.build_attack_plot(\"femnist_comparison_edge_tasks_inone_l2\", df, 'FEMNIST_l2', leftmost=True)\n",
    "display(fig)"
   ]
  },
  {
   "cell_type": "code",
   "execution_count": null,
   "metadata": {
    "collapsed": false,
    "pycharm": {
     "name": "#%%\n"
    }
   },
   "outputs": [],
   "source": [
    "# median\n",
    "df = att_obj.load_data_femnist(\"median\")\n",
    "display(df.columns)\n",
    "fig, df = att_obj.build_attack_plot(\"femnist_comparison_edge_tasks_inone_median\", df, 'FEMNIST_median', leftmost=True)\n",
    "display(fig)"
   ]
  },
  {
   "cell_type": "code",
   "execution_count": null,
   "metadata": {
    "collapsed": false,
    "pycharm": {
     "name": "#%% CIFAR\n"
    }
   },
   "outputs": [],
   "source": []
  },
  {
   "cell_type": "code",
   "execution_count": null,
   "metadata": {
    "collapsed": false,
    "pycharm": {
     "name": "#%%\n"
    }
   },
   "outputs": [],
   "source": [
    "import plots.attack_objective as att_obj\n",
    "\n",
    "# Capped at 500 rounds\n",
    "df = att_obj.load_data_cifar()\n",
    "display(df.columns)\n",
    "fig, df = att_obj.build_attack_plot(\"cifar_comparison_edge_tasks_inone\", df, 'CIFAR10', leftmost=False)\n",
    "display(fig)"
   ]
  },
  {
   "cell_type": "markdown",
   "metadata": {
    "collapsed": false,
    "pycharm": {
     "name": "#%% md\n"
    }
   },
   "source": [
    "# Appendix"
   ]
  },
  {
   "cell_type": "code",
   "execution_count": null,
   "metadata": {
    "collapsed": false,
    "pycharm": {
     "name": "#%%\n"
    }
   },
   "outputs": [],
   "source": [
    "import plots.continuous as continuous\n",
    "\n",
    "df = continuous.load_continuous_bound_data('FEMNIST_linf', None)\n",
    "df = df.sort_values('round')\n",
    "display(df.columns)\n",
    "fig, df = continuous.build_continuous_static_plot(\"femnist_continuous_bound_static_linf\", df, 'FEMNIST_linf')\n",
    "\n",
    "display(fig)\n",
    "display(df)"
   ]
  },
  {
   "cell_type": "code",
   "execution_count": null,
   "metadata": {
    "collapsed": false,
    "pycharm": {
     "name": "#%%\n"
    }
   },
   "outputs": [],
   "source": [
    "import plots.weight_distribution as weights\n",
    "\n",
    "df = weights.load_params_data()\n",
    "\n",
    "fig, df = weights.build_continuous_static_plot(\"femnist_weight_distribution_overtime\", df)\n",
    "display(fig)\n",
    "display(df)"
   ]
  },
  {
   "cell_type": "code",
   "execution_count": null,
   "metadata": {
    "collapsed": false,
    "pycharm": {
     "name": "#%%\n"
    }
   },
   "outputs": [],
   "source": [
    "import plots.weight_distribution as weights\n",
    "\n",
    "df = weights.load_weight_distribution_single_round_data()\n",
    "\n",
    "fig, df = weights.build_single_round(\"femnist_weight_distribution_single\", df)\n",
    "display(fig)\n",
    "display(df)\n",
    "\n",
    "for label in [\"mal\", \"ben\"]:\n",
    "    weights_truncated = df[(df[f\"{label}_weights\"] > 0.4) | (df[f\"{label}_weights\"] < -0.4)].count()\n",
    "    print(f\"Truncated {weights_truncated} {label} weights!\")\n",
    "\n",
    "for label in [\"mal\", \"ben\"]:\n",
    "    weights_truncated = df[(df[f\"{label}_weights\"] > 0.01) | (df[f\"{label}_weights\"] < -0.01)].count()\n",
    "    print(f\"Truncated {weights_truncated} {label} weights!\")"
   ]
  },
  {
   "cell_type": "code",
   "execution_count": null,
   "metadata": {
    "collapsed": false,
    "pycharm": {
     "name": "#%%\n"
    }
   },
   "outputs": [],
   "source": [
    "import plots.weight_distribution as weights\n",
    "\n",
    "df = weights.load_weight_distribution_single_round_data()\n",
    "\n",
    "fig, df = weights.build_single_round_broken(\"femnist_weight_distribution_single\", df)\n",
    "display(fig)\n",
    "display(df)"
   ]
  },
  {
   "cell_type": "markdown",
   "metadata": {
    "collapsed": false,
    "pycharm": {
     "name": "#%% md\n"
    }
   },
   "source": [
    "Microbenchmarks"
   ]
  },
  {
   "cell_type": "code",
   "execution_count": 3,
   "metadata": {
    "collapsed": false,
    "pycharm": {
     "name": "#%%\n"
    }
   },
   "outputs": [
    {
     "data": {
      "text/html": [
       "<div>\n",
       "<style scoped>\n",
       "    .dataframe tbody tr th:only-of-type {\n",
       "        vertical-align: middle;\n",
       "    }\n",
       "\n",
       "    .dataframe tbody tr th {\n",
       "        vertical-align: top;\n",
       "    }\n",
       "\n",
       "    .dataframe thead th {\n",
       "        text-align: right;\n",
       "    }\n",
       "</style>\n",
       "<table border=\"1\" class=\"dataframe\">\n",
       "  <thead>\n",
       "    <tr style=\"text-align: right;\">\n",
       "      <th></th>\n",
       "      <th>n_weights</th>\n",
       "      <th>fixed_point_repr</th>\n",
       "      <th>l2_clientlarge_wellformed_ms</th>\n",
       "      <th>l8_clientlarge_wellformed_ms</th>\n",
       "      <th>l8p_clientlarge_wellformed_ms</th>\n",
       "      <th>l2_clientlarge_wellformed_ms_std</th>\n",
       "      <th>l8_clientlarge_wellformed_ms_std</th>\n",
       "      <th>l8p_clientlarge_wellformed_ms_std</th>\n",
       "      <th>l2_server_wellformed_ms</th>\n",
       "      <th>l8_server_wellformed_ms</th>\n",
       "      <th>...</th>\n",
       "      <th>l8p_clientsmall_wellformed_ms</th>\n",
       "      <th>l2_clientsmall_wellformed_ms_std</th>\n",
       "      <th>l8_clientsmall_wellformed_ms_std</th>\n",
       "      <th>l8p_clientsmall_wellformed_ms_std</th>\n",
       "      <th>l2_clientsmall_range_ms</th>\n",
       "      <th>l8_clientsmall_range_ms</th>\n",
       "      <th>l8p_clientsmall_range_ms</th>\n",
       "      <th>l2_clientsmall_range_ms_std</th>\n",
       "      <th>l8_clientsmall_range_ms_std</th>\n",
       "      <th>l8p_clientsmall_range_ms_std</th>\n",
       "    </tr>\n",
       "  </thead>\n",
       "  <tbody>\n",
       "    <tr>\n",
       "      <th>0</th>\n",
       "      <td>32768</td>\n",
       "      <td>16</td>\n",
       "      <td>866.50</td>\n",
       "      <td>534.25</td>\n",
       "      <td>534.25</td>\n",
       "      <td>0.577350</td>\n",
       "      <td>0.500000</td>\n",
       "      <td>0.500000</td>\n",
       "      <td>444.50</td>\n",
       "      <td>266.25</td>\n",
       "      <td>...</td>\n",
       "      <td>7390.50</td>\n",
       "      <td>4.787136</td>\n",
       "      <td>4.509250</td>\n",
       "      <td>4.509250</td>\n",
       "      <td>52036.75</td>\n",
       "      <td>52017.75</td>\n",
       "      <td>13035.0</td>\n",
       "      <td>65.101843</td>\n",
       "      <td>65.101843</td>\n",
       "      <td>4.242641</td>\n",
       "    </tr>\n",
       "    <tr>\n",
       "      <th>1</th>\n",
       "      <td>131072</td>\n",
       "      <td>16</td>\n",
       "      <td>3457.50</td>\n",
       "      <td>2137.25</td>\n",
       "      <td>2137.25</td>\n",
       "      <td>2.516611</td>\n",
       "      <td>1.258306</td>\n",
       "      <td>1.258306</td>\n",
       "      <td>1777.00</td>\n",
       "      <td>1059.25</td>\n",
       "      <td>...</td>\n",
       "      <td>29547.00</td>\n",
       "      <td>4.716991</td>\n",
       "      <td>6.976150</td>\n",
       "      <td>6.976150</td>\n",
       "      <td>209029.50</td>\n",
       "      <td>208961.50</td>\n",
       "      <td>13035.0</td>\n",
       "      <td>211.033173</td>\n",
       "      <td>211.033173</td>\n",
       "      <td>4.242641</td>\n",
       "    </tr>\n",
       "    <tr>\n",
       "      <th>2</th>\n",
       "      <td>262144</td>\n",
       "      <td>16</td>\n",
       "      <td>6912.75</td>\n",
       "      <td>4274.00</td>\n",
       "      <td>4274.00</td>\n",
       "      <td>1.892969</td>\n",
       "      <td>2.449490</td>\n",
       "      <td>2.449490</td>\n",
       "      <td>3553.00</td>\n",
       "      <td>2115.50</td>\n",
       "      <td>...</td>\n",
       "      <td>59191.25</td>\n",
       "      <td>14.500000</td>\n",
       "      <td>176.664230</td>\n",
       "      <td>176.664230</td>\n",
       "      <td>417547.75</td>\n",
       "      <td>417414.75</td>\n",
       "      <td>13035.0</td>\n",
       "      <td>266.109470</td>\n",
       "      <td>266.109470</td>\n",
       "      <td>4.242641</td>\n",
       "    </tr>\n",
       "    <tr>\n",
       "      <th>3</th>\n",
       "      <td>524288</td>\n",
       "      <td>16</td>\n",
       "      <td>13823.75</td>\n",
       "      <td>8541.50</td>\n",
       "      <td>8541.50</td>\n",
       "      <td>9.945686</td>\n",
       "      <td>4.434712</td>\n",
       "      <td>4.434712</td>\n",
       "      <td>7106.75</td>\n",
       "      <td>4227.75</td>\n",
       "      <td>...</td>\n",
       "      <td>118225.75</td>\n",
       "      <td>72.152616</td>\n",
       "      <td>33.450212</td>\n",
       "      <td>33.450212</td>\n",
       "      <td>835563.25</td>\n",
       "      <td>835301.75</td>\n",
       "      <td>13035.0</td>\n",
       "      <td>1085.128833</td>\n",
       "      <td>1085.128679</td>\n",
       "      <td>4.242641</td>\n",
       "    </tr>\n",
       "  </tbody>\n",
       "</table>\n",
       "<p>4 rows × 46 columns</p>\n",
       "</div>"
      ],
      "text/plain": [
       "   n_weights  fixed_point_repr  l2_clientlarge_wellformed_ms  \\\n",
       "0      32768                16                        866.50   \n",
       "1     131072                16                       3457.50   \n",
       "2     262144                16                       6912.75   \n",
       "3     524288                16                      13823.75   \n",
       "\n",
       "   l8_clientlarge_wellformed_ms  l8p_clientlarge_wellformed_ms  \\\n",
       "0                        534.25                         534.25   \n",
       "1                       2137.25                        2137.25   \n",
       "2                       4274.00                        4274.00   \n",
       "3                       8541.50                        8541.50   \n",
       "\n",
       "   l2_clientlarge_wellformed_ms_std  l8_clientlarge_wellformed_ms_std  \\\n",
       "0                          0.577350                          0.500000   \n",
       "1                          2.516611                          1.258306   \n",
       "2                          1.892969                          2.449490   \n",
       "3                          9.945686                          4.434712   \n",
       "\n",
       "   l8p_clientlarge_wellformed_ms_std  l2_server_wellformed_ms  \\\n",
       "0                           0.500000                   444.50   \n",
       "1                           1.258306                  1777.00   \n",
       "2                           2.449490                  3553.00   \n",
       "3                           4.434712                  7106.75   \n",
       "\n",
       "   l8_server_wellformed_ms  ...  l8p_clientsmall_wellformed_ms  \\\n",
       "0                   266.25  ...                        7390.50   \n",
       "1                  1059.25  ...                       29547.00   \n",
       "2                  2115.50  ...                       59191.25   \n",
       "3                  4227.75  ...                      118225.75   \n",
       "\n",
       "   l2_clientsmall_wellformed_ms_std  l8_clientsmall_wellformed_ms_std  \\\n",
       "0                          4.787136                          4.509250   \n",
       "1                          4.716991                          6.976150   \n",
       "2                         14.500000                        176.664230   \n",
       "3                         72.152616                         33.450212   \n",
       "\n",
       "   l8p_clientsmall_wellformed_ms_std  l2_clientsmall_range_ms  \\\n",
       "0                           4.509250                 52036.75   \n",
       "1                           6.976150                209029.50   \n",
       "2                         176.664230                417547.75   \n",
       "3                          33.450212                835563.25   \n",
       "\n",
       "   l8_clientsmall_range_ms  l8p_clientsmall_range_ms  \\\n",
       "0                 52017.75                   13035.0   \n",
       "1                208961.50                   13035.0   \n",
       "2                417414.75                   13035.0   \n",
       "3                835301.75                   13035.0   \n",
       "\n",
       "   l2_clientsmall_range_ms_std  l8_clientsmall_range_ms_std  \\\n",
       "0                    65.101843                    65.101843   \n",
       "1                   211.033173                   211.033173   \n",
       "2                   266.109470                   266.109470   \n",
       "3                  1085.128833                  1085.128679   \n",
       "\n",
       "   l8p_clientsmall_range_ms_std  \n",
       "0                      4.242641  \n",
       "1                      4.242641  \n",
       "2                      4.242641  \n",
       "3                      4.242641  \n",
       "\n",
       "[4 rows x 46 columns]"
      ]
     },
     "metadata": {},
     "output_type": "display_data"
    },
    {
     "data": {
      "text/plain": [
       "0    319.25\n",
       "1    349.25\n",
       "2    389.75\n",
       "3    463.50\n",
       "Name: server_log2reconstruct_ms, dtype: float64"
      ]
     },
     "metadata": {},
     "output_type": "display_data"
    },
    {
     "name": "stdout",
     "output_type": "stream",
     "text": [
      "Server Overall - Discrete Log Reconstruction:\n"
     ]
    },
    {
     "data": {
      "image/png": "[encoded data removed]",
      "text/plain": [
       "<Figure size 438.356x216.735 with 1 Axes>"
      ]
     },
     "metadata": {},
     "output_type": "display_data"
    },
    {
     "name": "stdout",
     "output_type": "stream",
     "text": [
      "\n",
      "Server per Client - Zero Knowledge Proofs + Aggregation:\n"
     ]
    },
    {
     "data": {
      "image/png": "[encoded data removed]",
      "text/plain": [
       "<Figure size 438.356x216.735 with 2 Axes>"
      ]
     },
     "metadata": {},
     "output_type": "display_data"
    },
    {
     "name": "stdout",
     "output_type": "stream",
     "text": [
      "\n",
      "Client Large - Zero Knowledge Proofs:\n"
     ]
    },
    {
     "data": {
      "image/png": "[encoded data removed]",
      "text/plain": [
       "<Figure size 438.356x216.735 with 2 Axes>"
      ]
     },
     "metadata": {},
     "output_type": "display_data"
    },
    {
     "name": "stdout",
     "output_type": "stream",
     "text": [
      "\n",
      "Client Small - Zero Knowledge Proofs:\n"
     ]
    },
    {
     "data": {
      "image/png": "[encoded data removed]",
      "text/plain": [
       "<Figure size 438.356x216.735 with 2 Axes>"
      ]
     },
     "metadata": {},
     "output_type": "display_data"
    }
   ],
   "source": [
    "from plots.microbenchmarks import build_df_mbench_computation, build_fig_mbench_computation_server_dlog, \\\n",
    "    build_fig_mbench_computation_server_perclient_zkp, build_fig_mbench_computation_client_zkp\n",
    "\n",
    "df = build_df_mbench_computation()\n",
    "df.to_csv(\"full_including_smallclient.csv\")\n",
    "display(df)\n",
    "\n",
    "display(df['server_log2reconstruct_ms'])\n",
    "\n",
    "fig_mbench_computation_server_dlog = build_fig_mbench_computation_server_dlog(df)\n",
    "print(\"Server Overall - Discrete Log Reconstruction:\")\n",
    "display(fig_mbench_computation_server_dlog)\n",
    "\n",
    "fig_mbench_computation_server_perclient_zkp = build_fig_mbench_computation_server_perclient_zkp(df)\n",
    "print(\"\\nServer per Client - Zero Knowledge Proofs + Aggregation:\")\n",
    "display(fig_mbench_computation_server_perclient_zkp)\n",
    "\n",
    "fig_mbench_computation_clientlarge_zkp = build_fig_mbench_computation_client_zkp(df, \"large\")\n",
    "print(\"\\nClient Large - Zero Knowledge Proofs:\")\n",
    "display(fig_mbench_computation_clientlarge_zkp)\n",
    "\n",
    "\n",
    "print(\"\\nClient Small - Zero Knowledge Proofs:\")\n",
    "fig_mbench_computation_clientsmall_zkp = build_fig_mbench_computation_client_zkp(df, \"small\")\n",
    "display(fig_mbench_computation_clientsmall_zkp)"
   ]
  },
  {
   "cell_type": "code",
   "execution_count": 4,
   "metadata": {
    "collapsed": false,
    "pycharm": {
     "name": "#%%\n"
    }
   },
   "outputs": [
    {
     "name": "stdout",
     "output_type": "stream",
     "text": [
      "clientlarge l2: 2    156.60475\n",
      "dtype: float64\n",
      "clientlarge l8: 2    153.878\n",
      "dtype: float64\n",
      "clientlarge l8p: 2    8.95275\n",
      "dtype: float64\n",
      "clientsmall l2: 2    514.311\n",
      "dtype: float64\n",
      "clientsmall l8: 2    476.606\n",
      "dtype: float64\n",
      "clientsmall l8p: 2    72.22625\n",
      "dtype: float64\n",
      "server l2: 2    19.95525\n",
      "dtype: float64\n",
      "server l8: 2    18.51675\n",
      "dtype: float64\n",
      "server l8p: 2    3.21525\n",
      "dtype: float64\n",
      "clientlarge: 2    153.878\n",
      "dtype: float64 2    8.95275\n",
      "dtype: float64,  2    17.19\n",
      "dtype: float64\n",
      "clientsmall: 2    476.606\n",
      "dtype: float64 2    72.22625\n",
      "dtype: float64,  2    6.6\n",
      "dtype: float64\n"
     ]
    },
    {
     "data": {
      "text/plain": [
       "0    506.0\n",
       "1    506.0\n",
       "2    506.0\n",
       "3    506.0\n",
       "Name: l8p_server_range_ms, dtype: float64"
      ]
     },
     "metadata": {},
     "output_type": "display_data"
    }
   ],
   "source": [
    "# Numbers in text\n",
    "n_weights = 262144\n",
    "\n",
    "line = df[df[\"n_weights\"] == n_weights]\n",
    "\n",
    "for machine in [\"clientlarge\", \"clientsmall\"]:\n",
    "    for norm in [\"l2\", \"l8\", \"l8p\"]:\n",
    "\n",
    "        print(f'{machine} {norm}: {(line[f\"{norm}_{machine}_range_ms\"] + line[f\"{norm}_{machine}_wellformed_ms\"]) / 1000 }')\n",
    "for norm in [\"l2\", \"l8\", \"l8p\"]:\n",
    "        print(f'server {norm}: {(line[f\"{norm}_server_range_ms\"] + line[f\"{norm}_server_wellformed_ms\"] + line[f\"{norm}_server_caggregation_ms\"]) / 1000 }')\n",
    "\n",
    "for machine in [\"clientlarge\", \"clientsmall\"]:\n",
    "        base = (line[f\"l8_{machine}_range_ms\"] + line[f\"l8_{machine}_wellformed_ms\"]) / 1000\n",
    "        opt = (line[f\"l8p_{machine}_range_ms\"] + line[f\"l8p_{machine}_wellformed_ms\"]) / 1000\n",
    "\n",
    "        print(f'{machine}: { base } { opt },  {round(base / opt, 2)}')\n",
    "\n",
    "display(df['l8p_server_range_ms'])"
   ]
  },
  {
   "cell_type": "code",
   "execution_count": 8,
   "metadata": {},
   "outputs": [
    {
     "name": "stdout",
     "output_type": "stream",
     "text": [
      "L8 Bandwidth (infinity norm):\n"
     ]
    },
    {
     "data": {
      "image/png": "[encoded data removed]",
      "text/plain": [
       "<Figure size 216x158.4 with 1 Axes>"
      ]
     },
     "metadata": {},
     "output_type": "display_data"
    },
    {
     "name": "stdout",
     "output_type": "stream",
     "text": [
      "\n",
      "L2 Bandwidth:\n"
     ]
    },
    {
     "data": {
      "image/png": "[encoded data removed]",
      "text/plain": [
       "<Figure size 216x158.4 with 1 Axes>"
      ]
     },
     "metadata": {},
     "output_type": "display_data"
    },
    {
     "data": {
      "text/html": [
       "<div>\n",
       "<style scoped>\n",
       "    .dataframe tbody tr th:only-of-type {\n",
       "        vertical-align: middle;\n",
       "    }\n",
       "\n",
       "    .dataframe tbody tr th {\n",
       "        vertical-align: top;\n",
       "    }\n",
       "\n",
       "    .dataframe thead th {\n",
       "        text-align: right;\n",
       "    }\n",
       "</style>\n",
       "<table border=\"1\" class=\"dataframe\">\n",
       "  <thead>\n",
       "    <tr style=\"text-align: right;\">\n",
       "      <th></th>\n",
       "      <th>n_weights</th>\n",
       "      <th>proving_bit_range</th>\n",
       "      <th>n_vector_segments</th>\n",
       "      <th>group_element_bytes</th>\n",
       "      <th>scalar_bytes</th>\n",
       "      <th>plaintext_bytes</th>\n",
       "      <th>l8_commitment_bytes</th>\n",
       "      <th>l2_commitment_bytes</th>\n",
       "      <th>l8_wellformedness_bytes</th>\n",
       "      <th>l2_wellformedness_bytes</th>\n",
       "      <th>l8_range_proof_bytes</th>\n",
       "      <th>l2_range_proof_bytes</th>\n",
       "      <th>l2_total_mb</th>\n",
       "      <th>l8_total_mb</th>\n",
       "    </tr>\n",
       "  </thead>\n",
       "  <tbody>\n",
       "    <tr>\n",
       "      <th>0</th>\n",
       "      <td>1</td>\n",
       "      <td>8</td>\n",
       "      <td>4</td>\n",
       "      <td>32</td>\n",
       "      <td>32</td>\n",
       "      <td>4</td>\n",
       "      <td>64</td>\n",
       "      <td>96</td>\n",
       "      <td>128</td>\n",
       "      <td>192</td>\n",
       "      <td>352.0</td>\n",
       "      <td>736.0</td>\n",
       "      <td>0.001024</td>\n",
       "      <td>0.000544</td>\n",
       "    </tr>\n",
       "    <tr>\n",
       "      <th>8</th>\n",
       "      <td>8001</td>\n",
       "      <td>8</td>\n",
       "      <td>4</td>\n",
       "      <td>32</td>\n",
       "      <td>32</td>\n",
       "      <td>32004</td>\n",
       "      <td>512064</td>\n",
       "      <td>768096</td>\n",
       "      <td>1024128</td>\n",
       "      <td>1536192</td>\n",
       "      <td>1184.0</td>\n",
       "      <td>1568.0</td>\n",
       "      <td>2.305856</td>\n",
       "      <td>1.537376</td>\n",
       "    </tr>\n",
       "    <tr>\n",
       "      <th>16</th>\n",
       "      <td>16001</td>\n",
       "      <td>8</td>\n",
       "      <td>4</td>\n",
       "      <td>32</td>\n",
       "      <td>32</td>\n",
       "      <td>64004</td>\n",
       "      <td>1024064</td>\n",
       "      <td>1536096</td>\n",
       "      <td>2048128</td>\n",
       "      <td>3072192</td>\n",
       "      <td>1248.0</td>\n",
       "      <td>1632.0</td>\n",
       "      <td>4.609920</td>\n",
       "      <td>3.073440</td>\n",
       "    </tr>\n",
       "    <tr>\n",
       "      <th>24</th>\n",
       "      <td>24001</td>\n",
       "      <td>8</td>\n",
       "      <td>4</td>\n",
       "      <td>32</td>\n",
       "      <td>32</td>\n",
       "      <td>96004</td>\n",
       "      <td>1536064</td>\n",
       "      <td>2304096</td>\n",
       "      <td>3072128</td>\n",
       "      <td>4608192</td>\n",
       "      <td>1312.0</td>\n",
       "      <td>1696.0</td>\n",
       "      <td>6.913984</td>\n",
       "      <td>4.609504</td>\n",
       "    </tr>\n",
       "    <tr>\n",
       "      <th>32</th>\n",
       "      <td>32001</td>\n",
       "      <td>8</td>\n",
       "      <td>4</td>\n",
       "      <td>32</td>\n",
       "      <td>32</td>\n",
       "      <td>128004</td>\n",
       "      <td>2048064</td>\n",
       "      <td>3072096</td>\n",
       "      <td>4096128</td>\n",
       "      <td>6144192</td>\n",
       "      <td>1312.0</td>\n",
       "      <td>1696.0</td>\n",
       "      <td>9.217984</td>\n",
       "      <td>6.145504</td>\n",
       "    </tr>\n",
       "    <tr>\n",
       "      <th>...</th>\n",
       "      <td>...</td>\n",
       "      <td>...</td>\n",
       "      <td>...</td>\n",
       "      <td>...</td>\n",
       "      <td>...</td>\n",
       "      <td>...</td>\n",
       "      <td>...</td>\n",
       "      <td>...</td>\n",
       "      <td>...</td>\n",
       "      <td>...</td>\n",
       "      <td>...</td>\n",
       "      <td>...</td>\n",
       "      <td>...</td>\n",
       "      <td>...</td>\n",
       "    </tr>\n",
       "    <tr>\n",
       "      <th>960</th>\n",
       "      <td>960001</td>\n",
       "      <td>8</td>\n",
       "      <td>4</td>\n",
       "      <td>32</td>\n",
       "      <td>32</td>\n",
       "      <td>3840004</td>\n",
       "      <td>61440064</td>\n",
       "      <td>92160096</td>\n",
       "      <td>122880128</td>\n",
       "      <td>184320192</td>\n",
       "      <td>1632.0</td>\n",
       "      <td>2016.0</td>\n",
       "      <td>276.482304</td>\n",
       "      <td>184.321824</td>\n",
       "    </tr>\n",
       "    <tr>\n",
       "      <th>968</th>\n",
       "      <td>968001</td>\n",
       "      <td>8</td>\n",
       "      <td>4</td>\n",
       "      <td>32</td>\n",
       "      <td>32</td>\n",
       "      <td>3872004</td>\n",
       "      <td>61952064</td>\n",
       "      <td>92928096</td>\n",
       "      <td>123904128</td>\n",
       "      <td>185856192</td>\n",
       "      <td>1632.0</td>\n",
       "      <td>2016.0</td>\n",
       "      <td>278.786304</td>\n",
       "      <td>185.857824</td>\n",
       "    </tr>\n",
       "    <tr>\n",
       "      <th>976</th>\n",
       "      <td>976001</td>\n",
       "      <td>8</td>\n",
       "      <td>4</td>\n",
       "      <td>32</td>\n",
       "      <td>32</td>\n",
       "      <td>3904004</td>\n",
       "      <td>62464064</td>\n",
       "      <td>93696096</td>\n",
       "      <td>124928128</td>\n",
       "      <td>187392192</td>\n",
       "      <td>1632.0</td>\n",
       "      <td>2016.0</td>\n",
       "      <td>281.090304</td>\n",
       "      <td>187.393824</td>\n",
       "    </tr>\n",
       "    <tr>\n",
       "      <th>984</th>\n",
       "      <td>984001</td>\n",
       "      <td>8</td>\n",
       "      <td>4</td>\n",
       "      <td>32</td>\n",
       "      <td>32</td>\n",
       "      <td>3936004</td>\n",
       "      <td>62976064</td>\n",
       "      <td>94464096</td>\n",
       "      <td>125952128</td>\n",
       "      <td>188928192</td>\n",
       "      <td>1632.0</td>\n",
       "      <td>2016.0</td>\n",
       "      <td>283.394304</td>\n",
       "      <td>188.929824</td>\n",
       "    </tr>\n",
       "    <tr>\n",
       "      <th>992</th>\n",
       "      <td>992001</td>\n",
       "      <td>8</td>\n",
       "      <td>4</td>\n",
       "      <td>32</td>\n",
       "      <td>32</td>\n",
       "      <td>3968004</td>\n",
       "      <td>63488064</td>\n",
       "      <td>95232096</td>\n",
       "      <td>126976128</td>\n",
       "      <td>190464192</td>\n",
       "      <td>1632.0</td>\n",
       "      <td>2016.0</td>\n",
       "      <td>285.698304</td>\n",
       "      <td>190.465824</td>\n",
       "    </tr>\n",
       "  </tbody>\n",
       "</table>\n",
       "<p>125 rows × 14 columns</p>\n",
       "</div>"
      ],
      "text/plain": [
       "     n_weights  proving_bit_range  n_vector_segments  group_element_bytes  \\\n",
       "0            1                  8                  4                   32   \n",
       "8         8001                  8                  4                   32   \n",
       "16       16001                  8                  4                   32   \n",
       "24       24001                  8                  4                   32   \n",
       "32       32001                  8                  4                   32   \n",
       "..         ...                ...                ...                  ...   \n",
       "960     960001                  8                  4                   32   \n",
       "968     968001                  8                  4                   32   \n",
       "976     976001                  8                  4                   32   \n",
       "984     984001                  8                  4                   32   \n",
       "992     992001                  8                  4                   32   \n",
       "\n",
       "     scalar_bytes  plaintext_bytes  l8_commitment_bytes  l2_commitment_bytes  \\\n",
       "0              32                4                   64                   96   \n",
       "8              32            32004               512064               768096   \n",
       "16             32            64004              1024064              1536096   \n",
       "24             32            96004              1536064              2304096   \n",
       "32             32           128004              2048064              3072096   \n",
       "..            ...              ...                  ...                  ...   \n",
       "960            32          3840004             61440064             92160096   \n",
       "968            32          3872004             61952064             92928096   \n",
       "976            32          3904004             62464064             93696096   \n",
       "984            32          3936004             62976064             94464096   \n",
       "992            32          3968004             63488064             95232096   \n",
       "\n",
       "     l8_wellformedness_bytes  l2_wellformedness_bytes  l8_range_proof_bytes  \\\n",
       "0                        128                      192                 352.0   \n",
       "8                    1024128                  1536192                1184.0   \n",
       "16                   2048128                  3072192                1248.0   \n",
       "24                   3072128                  4608192                1312.0   \n",
       "32                   4096128                  6144192                1312.0   \n",
       "..                       ...                      ...                   ...   \n",
       "960                122880128                184320192                1632.0   \n",
       "968                123904128                185856192                1632.0   \n",
       "976                124928128                187392192                1632.0   \n",
       "984                125952128                188928192                1632.0   \n",
       "992                126976128                190464192                1632.0   \n",
       "\n",
       "     l2_range_proof_bytes  l2_total_mb  l8_total_mb  \n",
       "0                   736.0     0.001024     0.000544  \n",
       "8                  1568.0     2.305856     1.537376  \n",
       "16                 1632.0     4.609920     3.073440  \n",
       "24                 1696.0     6.913984     4.609504  \n",
       "32                 1696.0     9.217984     6.145504  \n",
       "..                    ...          ...          ...  \n",
       "960                2016.0   276.482304   184.321824  \n",
       "968                2016.0   278.786304   185.857824  \n",
       "976                2016.0   281.090304   187.393824  \n",
       "984                2016.0   283.394304   188.929824  \n",
       "992                2016.0   285.698304   190.465824  \n",
       "\n",
       "[125 rows x 14 columns]"
      ]
     },
     "metadata": {},
     "output_type": "display_data"
    },
    {
     "data": {
      "text/plain": [
       "<Figure size 438.356x216.735 with 0 Axes>"
      ]
     },
     "metadata": {},
     "output_type": "display_data"
    }
   ],
   "source": [
    "# Bandwidth\n",
    "\n",
    "\n",
    "import math\n",
    "import pandas as pd\n",
    "import numpy as np\n",
    "from matplotlib import pyplot as plt\n",
    "from matplotlib.backends.backend_pdf import PdfPages\n",
    "\n",
    "from common import get_colorful_styles, output_dir\n",
    "\n",
    "def setup_plt():\n",
    "\n",
    "    fig_width_pt = 220  # Get this from LaTeX using \\showthe\n",
    "    inches_per_pt = 1.0 / 72.27 * 2  # Convert pt to inches\n",
    "    golden_mean = ((np.math.sqrt(5) - 1.0) / 2.0) * .8  # Aesthetic ratio\n",
    "    fig_width = fig_width_pt * inches_per_pt  # width in inches\n",
    "    fig_height = (fig_width * golden_mean)  # height in inches\n",
    "    fig_size =  [fig_width, fig_height]\n",
    "\n",
    "    plt_params = {\n",
    "        'backend': 'ps',\n",
    "        'axes.labelsize': 20,\n",
    "        'legend.fontsize': 16,\n",
    "        'xtick.labelsize': 18,\n",
    "        'ytick.labelsize': 18,\n",
    "        'font.size': 18,\n",
    "        'figure.figsize': fig_size,\n",
    "        'font.family': 'Times New Roman'\n",
    "    }\n",
    "\n",
    "    plt.rcParams.update(plt_params)\n",
    "    plt.rc('pdf', fonttype=42)  # IMPORTANT to get rid of Type 3\n",
    "\n",
    "def build_df_bandwidth(max_n_weights=10**6):\n",
    "    \n",
    "    n_steps = 1000\n",
    "    step_size = int(max_n_weights / 1000)\n",
    "\n",
    "    message_sizes = []\n",
    "    for n_weights in range(1, max_n_weights, step_size):\n",
    "        d = get_message_size(n_weights)\n",
    "        message_sizes.append(d)\n",
    "\n",
    "    df = pd.DataFrame(message_sizes)\n",
    "\n",
    "    df[\"l2_total_mb\"] = (df[\"l2_commitment_bytes\"] + df[\"l2_wellformedness_bytes\"] + df[\"l2_range_proof_bytes\"]) * 1e-6\n",
    "    df[\"l8_total_mb\"] = (df[\"l8_commitment_bytes\"] + df[\"l8_wellformedness_bytes\"] + df[\"l8_range_proof_bytes\"]) * 1e-6\n",
    "\n",
    "    return df\n",
    "\n",
    "def get_message_size(n_weights, proving_bit_range=8, n_vector_segments=4, group_element_bytes=32, scalar_bytes=32, plaintext_weight_bytes=4):    \n",
    "\n",
    "    # n_weights: D\n",
    "    # proving_bit_range: n\n",
    "    # n_vector_segments: p\n",
    "\n",
    "    d = {\n",
    "        \"n_weights\": n_weights,\n",
    "        \"proving_bit_range\": proving_bit_range,\n",
    "        \"n_vector_segments\": n_vector_segments,\n",
    "        \"group_element_bytes\": group_element_bytes,\n",
    "        \"scalar_bytes\": scalar_bytes\n",
    "    }\n",
    "\n",
    "\n",
    "    d[\"plaintext_bytes\"] = plaintext_weight_bytes * n_weights\n",
    "\n",
    "    \n",
    "\n",
    "    ###############################################################\n",
    "    ## Commitments                                               ##\n",
    "    ###############################################################\n",
    "\n",
    "    # L8 / L8p\n",
    "    d[\"l8_commitment_bytes\"] = n_weights * 2 * group_element_bytes\n",
    "\n",
    "    # L2: requires additional commitment to the squared parameters \n",
    "    # (pederson commitment => 1 group element per weight)\n",
    "    d[\"l2_commitment_bytes\"] = d[\"l8_commitment_bytes\"] + n_weights * group_element_bytes\n",
    "   \n",
    "    \n",
    "    ###############################################################\n",
    "    ## Well-Formedness Proof                                     ##\n",
    "    ###############################################################\n",
    "\n",
    "    # L8 / L8p\n",
    "    d[\"l8_wellformedness_bytes\"] = (2 * scalar_bytes + 2 * group_element_bytes) * n_weights\n",
    "\n",
    "    # L2: requires one additional scalar and group element for the square relation proof\n",
    "    d[\"l2_wellformedness_bytes\"] = d[\"l8_wellformedness_bytes\"] + (scalar_bytes + group_element_bytes) * n_weights\n",
    "\n",
    "\n",
    "    ###############################################################\n",
    "    ## Range Proofs                                              ##\n",
    "    ###############################################################   \n",
    "\n",
    "    def next_pow(x):\n",
    "        return pow(2, math.ceil(math.log(x, 2)))\n",
    "\n",
    "    # L8 / L8p\n",
    "    n_group_elements = 2 * (math.log(proving_bit_range, 2) + math.log(next_pow(n_weights / n_vector_segments), 2)) + 4\n",
    "    n_scalars = 5\n",
    "    d[\"l8_range_proof_bytes\"] = n_group_elements * group_element_bytes + n_scalars * scalar_bytes\n",
    "\n",
    "    # L2: requires additional group elements and scalars to proof that l2 norm is in range\n",
    "    n_group_elements_additional  = math.log(proving_bit_range, 2) + 4\n",
    "    n_scalars_additional = 5\n",
    "    d[\"l2_range_proof_bytes\"] = d[\"l8_range_proof_bytes\"] + n_group_elements_additional * group_element_bytes + n_scalars_additional * scalar_bytes\n",
    "\n",
    "    return d\n",
    "\n",
    "\n",
    "\n",
    "def build_fig_mbench_bandwidth_perclient(df, norm):\n",
    "\n",
    "    name = f\"mbench_bandwidth_perclient_{norm}\"\n",
    "\n",
    "    if norm not in [\"l2\", \"l8\"]:\n",
    "        raise ValueError(\"unknown norm\")\n",
    "\n",
    "    if norm == \"l2\":\n",
    "        label_prefix = \"$L_2$\"\n",
    "    else:\n",
    "        label_prefix = \"$L_{\\infty}$\"\n",
    "\n",
    "    \n",
    "    setup_plt()\n",
    "\n",
    "    colors, _ = get_colorful_styles()\n",
    "    \n",
    "    colors = [(0.66, 0.66, 0.66, 1), colors[1], colors[2]]\n",
    "\n",
    "    with PdfPages(f\"{output_dir}/{name}.pdf\") as pdf:\n",
    "   \n",
    "        fig, ax = plt.subplots(figsize=(3,2.2))\n",
    "\n",
    "        ##########################\n",
    "        # Draw all the lines         \n",
    "        ##########################\n",
    "\n",
    "        ax.plot(df[\"n_weights\"], df[\"plaintext_bytes\"]*1e-6, label=\"plaintext\", color=\"0.0\", linestyle=\"--\", linewidth=2)\n",
    "\n",
    "        ax.stackplot(df[\"n_weights\"], \n",
    "                    df[norm + \"_commitment_bytes\"]*1e-6, \n",
    "                    df[norm + \"_wellformedness_bytes\"]*1e-6, \n",
    "                    df[norm + \"_range_proof_bytes\"]*1e-6, \n",
    "                    colors=colors, labels=[label_prefix + \" commitment\", label_prefix + \" well-formedness\", label_prefix + \" range proof\"], zorder=2)\n",
    "\n",
    "\n",
    "\n",
    "        ##########################\n",
    "        # General Format         \n",
    "        ##########################\n",
    "        #ax.set_title(\"Hello World\")\n",
    "\n",
    "        handles, labels = plt.gca().get_legend_handles_labels()\n",
    "        order = [2,1,3,0]\n",
    "\n",
    "        #ax.legend([handles[idx] for idx in order], [labels[idx] for idx in order], loc=\"upper left\", ncol=2, handletextpad=0.3, columnspacing=0.5)   # 'best', 'upper right', 'upper left', 'lower left', \n",
    "                                # 'lower right', 'right', 'center left',  'center right', \n",
    "                                # 'lower center', 'upper center', 'center'\n",
    "        ax.grid(True, axis=\"y\", linestyle=':', color='0.6', zorder=0, linewidth=1.2)\n",
    "\n",
    "\n",
    "        ##########################\n",
    "        # Y - Axis Format\n",
    "        ##########################\n",
    "        ax.set_ylim(ymin=0, ymax=300)\n",
    "        ax.set_ylabel(\"Bandwidth [MB]\")\n",
    "        \n",
    "        ax.set_yticks(np.arange(0, 400, 100))\n",
    "        #ax.set_yticklabels(labels, fontsize=16, rotation=345)\n",
    "\n",
    "\n",
    "        ##########################\n",
    "        # X - Axis Format\n",
    "        ##########################\n",
    "        ax.set_xlim(xmin=0, xmax=1000000)\n",
    "        ax.set_xlabel(\"Number of Parameters\")\n",
    "        \n",
    "        ax.set_xticks(np.arange(0, 1000001, 250*1000))\n",
    "\n",
    "        xlabels = [f\"{round(x)}k\" if x < 1000 else f\"{round(x/1000)}M\" for x in ax.get_xticks()/1000]\n",
    "        ax.set_xticklabels(xlabels)\n",
    "\n",
    "        pdf.savefig(bbox_inches='tight', pad_inches=0)\n",
    "        plt.close()\n",
    "    return fig\n",
    "\n",
    "\n",
    "df = build_df_bandwidth(max_n_weights=1000000)\n",
    "\n",
    "fig_mbench_bandwidth_perclient_l8 = build_fig_mbench_bandwidth_perclient(df, norm=\"l8\")\n",
    "print(\"L8 Bandwidth (infinity norm):\")\n",
    "display(fig_mbench_bandwidth_perclient_l8)\n",
    "\n",
    "fig_mbench_bandwidth_perclient_l2 = build_fig_mbench_bandwidth_perclient(df, norm=\"l2\")\n",
    "print(\"\\nL2 Bandwidth:\")\n",
    "display(fig_mbench_bandwidth_perclient_l2)\n",
    "\n",
    "\n",
    "\n",
    "#plt_params_l = plt_params\n",
    "#plt_params_l['figure.figsize'] = [fig_size[0], 2/3 * fig_size[1]]\n",
    "#plt.rcParams.update(plt_params_l)\n",
    "\n",
    "colors, _ = get_colorful_styles()\n",
    "colors = [(0.66, 0.66, 0.66, 1), colors[1], colors[2]]\n",
    "\n",
    "bar_labels=[\"commitment\", \"well-formedness\", \"range proof\"]\n",
    "\n",
    "\n",
    "plt.plot([1], [1], label=\"plaintext\", color=\"0.0\", linestyle=\"--\", linewidth=2)\n",
    "\n",
    "for color, label in zip(colors, bar_labels):\n",
    "    plt.bar([1],[1], color=color, label=label)\n",
    "    \n",
    "\n",
    "\n",
    "legend = plt.legend(bbox_to_anchor=(0, 1.02,1, 0.2), loc=\"lower left\", mode=\"expand\", ncol=2)\n",
    "\n",
    "def export_legend(legend, filename):\n",
    "    pdf_pages = PdfPages(filename)\n",
    "    fig  = legend.figure\n",
    "    fig.canvas.draw()\n",
    "    bbox  = legend.get_window_extent().transformed(fig.dpi_scale_trans.inverted())  \n",
    "    F = plt.gcf()\n",
    "    pdf_pages.savefig(F, bbox_inches=bbox, pad_inches=0)\n",
    "    plt.clf()\n",
    "    pdf_pages.close()\n",
    "    \n",
    "export_legend(legend, filename=f\"{output_dir}/mbench_bandwidth_perclient_legend.pdf\")\n",
    "\n",
    "\n",
    "display(df[df.index % 8 == 0])"
   ]
  }
 ],
 "metadata": {
  "kernelspec": {
   "display_name": "PyCharm (fl-analysis-plots)",
   "language": "python",
   "name": "pycharm-e455f34c"
  },
  "language_info": {
   "codemirror_mode": {
    "name": "ipython",
    "version": 3
   },
   "file_extension": ".py",
   "mimetype": "text/x-python",
   "name": "python",
   "nbconvert_exporter": "python",
   "pygments_lexer": "ipython3",
   "version": "3.7.9"
  }
 },
 "nbformat": 4,
 "nbformat_minor": 1
}
