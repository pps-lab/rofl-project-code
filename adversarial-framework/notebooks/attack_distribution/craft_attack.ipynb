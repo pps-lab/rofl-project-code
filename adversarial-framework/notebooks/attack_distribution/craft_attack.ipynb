{
 "cells": [
  {
   "cell_type": "code",
   "execution_count": 1,
   "metadata": {
    "collapsed": true
   },
   "outputs": [],
   "source": [
    "import pandas as pd\n",
    "import numpy as np\n",
    "import tensorflow as tf\n",
    "import sys\n",
    "import matplotlib.pyplot as plt\n",
    "\n",
    "sys.path.insert(0, '../')"
   ]
  },
  {
   "cell_type": "code",
   "execution_count": 2,
   "outputs": [],
   "source": [
    "batch_size = 64\n",
    "num_test_batches = 200\n",
    "\n",
    "test_accuracy = tf.keras.metrics.Mean(name='test_accuracy')"
   ],
   "metadata": {
    "collapsed": false,
    "pycharm": {
     "name": "#%%\n"
    }
   }
  },
  {
   "cell_type": "code",
   "execution_count": 43,
   "outputs": [
    {
     "name": "stderr",
     "output_type": "stream",
     "text": [
      "W1217 13:44:37.979121 4353719744 hdf5_format.py:177] No training configuration found in save file: the model was *not* compiled. Compile it manually.\n"
     ]
    }
   ],
   "source": [
    "model = tf.keras.models.load_model(\"../../models/resnet18.h5\")"
   ],
   "metadata": {
    "collapsed": false,
    "pycharm": {
     "name": "#%%\n"
    }
   }
  },
  {
   "cell_type": "code",
   "execution_count": 4,
   "outputs": [
    {
     "name": "stderr",
     "output_type": "stream",
     "text": [
      "Using TensorFlow backend.\n"
     ]
    }
   ],
   "source": [
    "from src.data.tf_data import Dataset, ImageGeneratorDataset\n",
    "from src.data.tf_data_global import IIDGlobalDataset\n",
    "(x_train, y_train), (x_test, y_test) = Dataset.get_cifar10_dataset(-1)\n",
    "global_dataset = IIDGlobalDataset(x_train, y_train, 100, x_test, y_test)"
   ],
   "metadata": {
    "collapsed": false,
    "pycharm": {
     "name": "#%%\n"
    }
   }
  },
  {
   "cell_type": "code",
   "execution_count": 32,
   "outputs": [],
   "source": [
    "GREEN_CAR_TRAIN = [389,561,874,1605,3378,3678,4528,9744,19165,19500,21422,22984,32941,34287,34385,36005,37365,37533,38658,38735,39824,40138,47026,48003,48030,49163,49588]\n",
    "GREEN_CAR_TEST = [41336,41861,47001]\n",
    "MAL_TARGET = 2\n",
    "MAL_ORIG = 1\n",
    "\n",
    "# Attack\n",
    "x_mal_train = x_train[GREEN_CAR_TRAIN]\n",
    "y_mal_train = np.repeat(MAL_TARGET, x_mal_train.shape[0]).astype(np.uint8)\n",
    "y_mal_train_orig = y_train[GREEN_CAR_TEST]\n",
    "x_mal_test = x_train[GREEN_CAR_TEST]\n",
    "y_mal_test = np.repeat(MAL_TARGET, x_mal_test.shape[0]).astype(np.uint8)\n",
    "global_dataset.x_aux_test = x_mal_test\n",
    "global_dataset.mal_aux_labels_test = y_mal_test\n",
    "global_dataset.y_aux_test = y_mal_train_orig"
   ],
   "metadata": {
    "collapsed": false,
    "pycharm": {
     "name": "#%%\n"
    }
   }
  },
  {
   "cell_type": "code",
   "execution_count": 6,
   "outputs": [],
   "source": [
    "def get_mal_dataset():\n",
    "    (x_train, y_train) = global_dataset.get_dataset_for_client(1)\n",
    "    dataset = Dataset(x_train, y_train, batch_size, x_test, y_test)\n",
    "    dataset.x_aux = x_mal_train\n",
    "    dataset.y_aux = y_mal_train_orig\n",
    "    dataset.mal_aux_labels = y_mal_train\n",
    "    dataset.x_aux_test = x_mal_test\n",
    "    dataset.mal_aux_labels_test = y_mal_test\n",
    "    return dataset"
   ],
   "metadata": {
    "collapsed": false,
    "pycharm": {
     "name": "#%%\n"
    }
   }
  },
  {
   "cell_type": "code",
   "execution_count": 46,
   "outputs": [],
   "source": [
    "@tf.function\n",
    "def optimized_evaluate(model, batch_x, batch_y):\n",
    "    prediction_tensor = model(batch_x, training=False)\n",
    "    prediction = prediction_tensor\n",
    "    y_ = tf.cast(tf.argmax(prediction, axis=1), tf.uint8)\n",
    "    test_accuracy_batch = tf.equal(y_, batch_y)\n",
    "    test_accuracy(tf.reduce_mean(tf.cast(test_accuracy_batch, tf.float32)))\n",
    "\n",
    "def eval(model):\n",
    "    test_accuracy.reset_states()\n",
    "    for batch_x, batch_y in global_dataset.get_test_batch(batch_size, num_test_batches):\n",
    "        optimized_evaluate(model, batch_x, batch_y)\n",
    "\n",
    "    res = test_accuracy.result().numpy()\n",
    "    # print(f\"Accuracy: {res}\")\n",
    "    return res\n",
    "\n",
    "def eval_class(model, target):\n",
    "    test_accuracy.reset_states()\n",
    "    for batch_x, batch_y in global_dataset.get_test_batch(batch_size, num_test_batches):\n",
    "        optimized_evaluate(model, batch_x[batch_y == target], batch_y[batch_y == target])\n",
    "\n",
    "    res = test_accuracy.result().numpy()\n",
    "    # print(f\"Accuracy: {res}\")\n",
    "    return res\n",
    "\n",
    "def eval_mal(model):\n",
    "    test_accuracy.reset_states()\n",
    "    for batch_x, batch_y in global_dataset.get_aux_generator(batch_size, num_test_batches, True):\n",
    "        optimized_evaluate(model, batch_x, batch_y)\n",
    "\n",
    "    res = test_accuracy.result().numpy()\n",
    "    # print(f\"Mal Accuracy: {res}\")\n",
    "    return res\n"
   ],
   "metadata": {
    "collapsed": false,
    "pycharm": {
     "name": "#%%\n"
    }
   }
  },
  {
   "cell_type": "code",
   "execution_count": 14,
   "outputs": [
    {
     "name": "stdout",
     "output_type": "stream",
     "text": [
      "Accuracy: 0.8800756335258484\n",
      "Mal Accuracy: 0.0\n",
      "Accuracy: 0.8770899772644043\n",
      "Mal Accuracy: 0.0\n"
     ]
    },
    {
     "data": {
      "text/plain": "0.0"
     },
     "execution_count": 14,
     "metadata": {},
     "output_type": "execute_result"
    }
   ],
   "source": [
    "from src.attack import TargetedAttack\n",
    "\n",
    "model = tf.keras.models.load_model(\"../../models/resnet18.h5\")\n",
    "\n",
    "print(f\"{eval(model)} {eval_mal(model)}\")\n",
    "\n",
    "dataset = get_mal_dataset()\n",
    "\n",
    "attack = TargetedAttack()\n",
    "attack.generate(dataset, model, num_epochs=1,\n",
    "                num_batch=1, poison_samples=20,\n",
    "                optimizer=tf.keras.optimizers.Adam(),\n",
    "                loss_object=tf.keras.losses.SparseCategoricalCrossentropy(from_logits=True))\n",
    "\n",
    "print(f\"{eval(model)} {eval_mal(model)}\")\n"
   ],
   "metadata": {
    "collapsed": false,
    "pycharm": {
     "name": "#%%\n"
    }
   }
  },
  {
   "cell_type": "code",
   "execution_count": 48,
   "outputs": [
    {
     "name": "stderr",
     "output_type": "stream",
     "text": [
      "W1217 13:49:31.379213 4353719744 hdf5_format.py:177] No training configuration found in save file: the model was *not* compiled. Compile it manually.\n",
      "W1217 13:49:56.441955 4353719744 def_function.py:586] 5 out of the last 175 calls to <function optimized_evaluate at 0x7ff9d802e050> triggered tf.function retracing. Tracing is expensive and the excessive number of tracings is likely due to passing python objects instead of tensors. Also, tf.function has experimental_relax_shapes=True option that relaxes argument shapes that can avoid unnecessary retracing. Please refer to https://www.tensorflow.org/tutorials/customization/performance#python_or_tensor_args and https://www.tensorflow.org/api_docs/python/tf/function for more details.\n",
      "W1217 13:49:56.846045 4353719744 def_function.py:586] 6 out of the last 176 calls to <function optimized_evaluate at 0x7ff9d802e050> triggered tf.function retracing. Tracing is expensive and the excessive number of tracings is likely due to passing python objects instead of tensors. Also, tf.function has experimental_relax_shapes=True option that relaxes argument shapes that can avoid unnecessary retracing. Please refer to https://www.tensorflow.org/tutorials/customization/performance#python_or_tensor_args and https://www.tensorflow.org/api_docs/python/tf/function for more details.\n",
      "W1217 13:49:57.311794 4353719744 def_function.py:586] 5 out of the last 13 calls to <function optimized_evaluate at 0x7ff9d802e050> triggered tf.function retracing. Tracing is expensive and the excessive number of tracings is likely due to passing python objects instead of tensors. Also, tf.function has experimental_relax_shapes=True option that relaxes argument shapes that can avoid unnecessary retracing. Please refer to https://www.tensorflow.org/tutorials/customization/performance#python_or_tensor_args and https://www.tensorflow.org/api_docs/python/tf/function for more details.\n",
      "W1217 13:49:57.714040 4353719744 def_function.py:586] 5 out of the last 12 calls to <function optimized_evaluate at 0x7ff9d802e050> triggered tf.function retracing. Tracing is expensive and the excessive number of tracings is likely due to passing python objects instead of tensors. Also, tf.function has experimental_relax_shapes=True option that relaxes argument shapes that can avoid unnecessary retracing. Please refer to https://www.tensorflow.org/tutorials/customization/performance#python_or_tensor_args and https://www.tensorflow.org/api_docs/python/tf/function for more details.\n",
      "W1217 13:49:58.495404 4353719744 def_function.py:586] 5 out of the last 16 calls to <function optimized_evaluate at 0x7ff9d802e050> triggered tf.function retracing. Tracing is expensive and the excessive number of tracings is likely due to passing python objects instead of tensors. Also, tf.function has experimental_relax_shapes=True option that relaxes argument shapes that can avoid unnecessary retracing. Please refer to https://www.tensorflow.org/tutorials/customization/performance#python_or_tensor_args and https://www.tensorflow.org/api_docs/python/tf/function for more details.\n"
     ]
    },
    {
     "name": "stdout",
     "output_type": "stream",
     "text": [
      "0.8829618096351624 0.0\n",
      "Round 0 0.0\n",
      "Round 1 0.13333334028720856\n",
      "Round 2 0.9156249761581421\n",
      "Round 3 0.9937499761581421\n",
      "Round 4 0.9984375238418579\n",
      "Round 5 0.9927083253860474\n",
      "Round 6 0.9984375238418579\n",
      "Round 7 0.9937499761581421\n",
      "Round 8 0.987500011920929\n",
      "Round 9 0.979687511920929\n"
     ]
    },
    {
     "data": {
      "text/plain": "<Figure size 432x288 with 0 Axes>"
     },
     "metadata": {},
     "output_type": "display_data"
    },
    {
     "data": {
      "text/plain": "<Figure size 432x288 with 1 Axes>",
      "image/png": "[encoded data removed]"
     },
     "metadata": {
      "needs_background": "light"
     },
     "output_type": "display_data"
    }
   ],
   "source": [
    "model = tf.keras.models.load_model(\"../../models/resnet18.h5\")\n",
    "\n",
    "print(f\"{eval(model)} {eval_mal(model)}\")\n",
    "attack = TargetedAttack()\n",
    "\n",
    "optimizer = tf.keras.optimizers.Adam()\n",
    "loss = tf.keras.losses.SparseCategoricalCrossentropy()\n",
    "track = []\n",
    "for i in range(10):\n",
    "    attack.generate(dataset, model, num_epochs=1,\n",
    "                    num_batch=1, poison_samples=20,\n",
    "                    optimizer=optimizer,\n",
    "                    loss_object=loss)\n",
    "    mal = eval_mal(model)\n",
    "    print(f\"Round {i} {mal}\")\n",
    "    track.append((eval(model), eval_class(model, MAL_ORIG), mal))\n",
    "    # if mal > 0.9:\n",
    "    #     break\n",
    "\n",
    "plt.figure()\n",
    "fig, ax1 = plt.subplots()\n",
    "ax1.plot(range(len(track)), [t[0] for t in track], color='tab:blue', label=\"eval\")\n",
    "ax1.plot(range(len(track)), [t[1] for t in track], color='tab:green', label=\"class\")\n",
    "ax1.plot(range(len(track)), [t[2] for t in track], color='tab:red', label=\"adv\")\n",
    "plt.legend()\n",
    "# ax2 = ax1.twinx()\n",
    "# ax2.plot(range(len(adv_losses)), adv_losses, color='tab:green')\n",
    "plt.show()"
   ],
   "metadata": {
    "collapsed": false,
    "pycharm": {
     "name": "#%%\n"
    }
   }
  },
  {
   "cell_type": "markdown",
   "source": [
    "It seems the attack just flips the whole class, so it just mispredicts all cars as birds instead of just the green ones."
   ],
   "metadata": {
    "collapsed": false,
    "pycharm": {
     "name": "#%% md\n"
    }
   }
  },
  {
   "cell_type": "markdown",
   "source": [
    "# Step Decay"
   ],
   "metadata": {
    "collapsed": false,
    "pycharm": {
     "name": "#%% md\n"
    }
   }
  },
  {
   "cell_type": "code",
   "execution_count": 50,
   "outputs": [
    {
     "name": "stderr",
     "output_type": "stream",
     "text": [
      "W1217 13:53:22.329520 4353719744 hdf5_format.py:177] No training configuration found in save file: the model was *not* compiled. Compile it manually.\n",
      "W1217 13:53:45.566797 4353719744 def_function.py:586] 5 out of the last 175 calls to <function optimized_evaluate at 0x7ff9d802e050> triggered tf.function retracing. Tracing is expensive and the excessive number of tracings is likely due to passing python objects instead of tensors. Also, tf.function has experimental_relax_shapes=True option that relaxes argument shapes that can avoid unnecessary retracing. Please refer to https://www.tensorflow.org/tutorials/customization/performance#python_or_tensor_args and https://www.tensorflow.org/api_docs/python/tf/function for more details.\n",
      "W1217 13:53:45.838276 4353719744 def_function.py:586] 6 out of the last 176 calls to <function optimized_evaluate at 0x7ff9d802e050> triggered tf.function retracing. Tracing is expensive and the excessive number of tracings is likely due to passing python objects instead of tensors. Also, tf.function has experimental_relax_shapes=True option that relaxes argument shapes that can avoid unnecessary retracing. Please refer to https://www.tensorflow.org/tutorials/customization/performance#python_or_tensor_args and https://www.tensorflow.org/api_docs/python/tf/function for more details.\n",
      "W1217 13:53:46.169176 4353719744 def_function.py:586] 5 out of the last 13 calls to <function optimized_evaluate at 0x7ff9d802e050> triggered tf.function retracing. Tracing is expensive and the excessive number of tracings is likely due to passing python objects instead of tensors. Also, tf.function has experimental_relax_shapes=True option that relaxes argument shapes that can avoid unnecessary retracing. Please refer to https://www.tensorflow.org/tutorials/customization/performance#python_or_tensor_args and https://www.tensorflow.org/api_docs/python/tf/function for more details.\n",
      "W1217 13:53:46.459046 4353719744 def_function.py:586] 5 out of the last 12 calls to <function optimized_evaluate at 0x7ff9d802e050> triggered tf.function retracing. Tracing is expensive and the excessive number of tracings is likely due to passing python objects instead of tensors. Also, tf.function has experimental_relax_shapes=True option that relaxes argument shapes that can avoid unnecessary retracing. Please refer to https://www.tensorflow.org/tutorials/customization/performance#python_or_tensor_args and https://www.tensorflow.org/api_docs/python/tf/function for more details.\n",
      "W1217 13:53:47.073143 4353719744 def_function.py:586] 5 out of the last 16 calls to <function optimized_evaluate at 0x7ff9d802e050> triggered tf.function retracing. Tracing is expensive and the excessive number of tracings is likely due to passing python objects instead of tensors. Also, tf.function has experimental_relax_shapes=True option that relaxes argument shapes that can avoid unnecessary retracing. Please refer to https://www.tensorflow.org/tutorials/customization/performance#python_or_tensor_args and https://www.tensorflow.org/api_docs/python/tf/function for more details.\n"
     ]
    },
    {
     "name": "stdout",
     "output_type": "stream",
     "text": [
      "0.8829618096351624 0.0\n",
      "Round 0 0.0015625000232830644\n",
      "Round 1 0.1510416567325592\n",
      "Round 2 0.9197916984558105\n",
      "Round 3 0.9307292103767395\n",
      "Round 4 0.9411457777023315\n",
      "Round 5 0.9416667222976685\n",
      "Round 6 0.949999988079071\n",
      "Round 7 0.9567707777023315\n",
      "Round 8 0.9588541984558105\n",
      "Round 9 0.9510416984558105\n"
     ]
    },
    {
     "data": {
      "text/plain": "<Figure size 432x288 with 0 Axes>"
     },
     "metadata": {},
     "output_type": "display_data"
    },
    {
     "data": {
      "text/plain": "<Figure size 432x288 with 1 Axes>",
      "image/png": "[encoded data removed]"
     },
     "metadata": {
      "needs_background": "light"
     },
     "output_type": "display_data"
    }
   ],
   "source": [
    "from src.learning_rate_decay import StepDecay\n",
    "\n",
    "model = tf.keras.models.load_model(\"../../models/resnet18.h5\")\n",
    "\n",
    "print(f\"{eval(model)} {eval_mal(model)}\")\n",
    "attack = TargetedAttack()\n",
    "\n",
    "num_steps = 10\n",
    "step_decay = StepDecay(0.001, num_steps)\n",
    "optimizer = tf.keras.optimizers.Adam(learning_rate=step_decay)\n",
    "loss = tf.keras.losses.SparseCategoricalCrossentropy()\n",
    "track = []\n",
    "for i in range(num_steps):\n",
    "    attack.generate(dataset, model, num_epochs=1,\n",
    "                    num_batch=1, poison_samples=20,\n",
    "                    optimizer=optimizer,\n",
    "                    loss_object=loss,\n",
    "                    step_decay=step_decay)\n",
    "    mal = eval_mal(model)\n",
    "    print(f\"Round {i} {mal}\")\n",
    "    track.append((eval(model), eval_class(model, MAL_ORIG), mal))\n",
    "\n",
    "plt.figure()\n",
    "fig, ax1 = plt.subplots()\n",
    "ax1.plot(range(len(track)), [t[0] for t in track], color='tab:blue', label=\"eval\")\n",
    "ax1.plot(range(len(track)), [t[1] for t in track], color='tab:green', label=\"class\")\n",
    "ax1.plot(range(len(track)), [t[2] for t in track], color='tab:red', label=\"adv\")\n",
    "plt.legend()\n",
    "plt.show()"
   ],
   "metadata": {
    "collapsed": false,
    "pycharm": {
     "name": "#%%\n"
    }
   }
  },
  {
   "cell_type": "code",
   "execution_count": 52,
   "outputs": [
    {
     "name": "stderr",
     "output_type": "stream",
     "text": [
      "W1217 14:00:53.296510 4353719744 hdf5_format.py:177] No training configuration found in save file: the model was *not* compiled. Compile it manually.\n",
      "W1217 14:01:22.869572 4353719744 def_function.py:586] 5 out of the last 175 calls to <function optimized_evaluate at 0x7ff9d802e050> triggered tf.function retracing. Tracing is expensive and the excessive number of tracings is likely due to passing python objects instead of tensors. Also, tf.function has experimental_relax_shapes=True option that relaxes argument shapes that can avoid unnecessary retracing. Please refer to https://www.tensorflow.org/tutorials/customization/performance#python_or_tensor_args and https://www.tensorflow.org/api_docs/python/tf/function for more details.\n",
      "W1217 14:01:23.165270 4353719744 def_function.py:586] 6 out of the last 176 calls to <function optimized_evaluate at 0x7ff9d802e050> triggered tf.function retracing. Tracing is expensive and the excessive number of tracings is likely due to passing python objects instead of tensors. Also, tf.function has experimental_relax_shapes=True option that relaxes argument shapes that can avoid unnecessary retracing. Please refer to https://www.tensorflow.org/tutorials/customization/performance#python_or_tensor_args and https://www.tensorflow.org/api_docs/python/tf/function for more details.\n",
      "W1217 14:01:23.511955 4353719744 def_function.py:586] 5 out of the last 13 calls to <function optimized_evaluate at 0x7ff9d802e050> triggered tf.function retracing. Tracing is expensive and the excessive number of tracings is likely due to passing python objects instead of tensors. Also, tf.function has experimental_relax_shapes=True option that relaxes argument shapes that can avoid unnecessary retracing. Please refer to https://www.tensorflow.org/tutorials/customization/performance#python_or_tensor_args and https://www.tensorflow.org/api_docs/python/tf/function for more details.\n",
      "W1217 14:01:23.818427 4353719744 def_function.py:586] 5 out of the last 12 calls to <function optimized_evaluate at 0x7ff9d802e050> triggered tf.function retracing. Tracing is expensive and the excessive number of tracings is likely due to passing python objects instead of tensors. Also, tf.function has experimental_relax_shapes=True option that relaxes argument shapes that can avoid unnecessary retracing. Please refer to https://www.tensorflow.org/tutorials/customization/performance#python_or_tensor_args and https://www.tensorflow.org/api_docs/python/tf/function for more details.\n",
      "W1217 14:01:24.504273 4353719744 def_function.py:586] 5 out of the last 16 calls to <function optimized_evaluate at 0x7ff9d802e050> triggered tf.function retracing. Tracing is expensive and the excessive number of tracings is likely due to passing python objects instead of tensors. Also, tf.function has experimental_relax_shapes=True option that relaxes argument shapes that can avoid unnecessary retracing. Please refer to https://www.tensorflow.org/tutorials/customization/performance#python_or_tensor_args and https://www.tensorflow.org/api_docs/python/tf/function for more details.\n"
     ]
    },
    {
     "name": "stdout",
     "output_type": "stream",
     "text": [
      "0.8829618096351624 0.0\n",
      "Round 0 0.0\n",
      "Round 1 0.0\n",
      "Round 2 0.0\n",
      "Round 3 0.0\n",
      "Round 4 0.0\n",
      "Round 5 0.0\n",
      "Round 6 0.0\n",
      "Round 7 0.0\n",
      "Round 8 0.0\n",
      "Round 9 0.0\n"
     ]
    },
    {
     "data": {
      "text/plain": "<Figure size 432x288 with 0 Axes>"
     },
     "metadata": {},
     "output_type": "display_data"
    },
    {
     "data": {
      "text/plain": "<Figure size 432x288 with 1 Axes>",
      "image/png": "[encoded data removed]"
     },
     "metadata": {
      "needs_background": "light"
     },
     "output_type": "display_data"
    }
   ],
   "source": [
    "from src.learning_rate_decay import StepDecay\n",
    "\n",
    "model = tf.keras.models.load_model(\"../../models/resnet18.h5\")\n",
    "\n",
    "print(f\"{eval(model)} {eval_mal(model)}\")\n",
    "attack = TargetedAttack()\n",
    "\n",
    "num_steps = 10\n",
    "step_decay = StepDecay(0.01, num_steps)\n",
    "optimizer = tf.keras.optimizers.SGD(learning_rate=step_decay)\n",
    "loss = tf.keras.losses.SparseCategoricalCrossentropy()\n",
    "track = []\n",
    "for i in range(num_steps):\n",
    "    attack.generate(dataset, model, num_epochs=1,\n",
    "                    num_batch=1, poison_samples=20,\n",
    "                    optimizer=optimizer,\n",
    "                    loss_object=loss,\n",
    "                    step_decay=step_decay)\n",
    "    mal = eval_mal(model)\n",
    "    print(f\"Round {i} {mal}\")\n",
    "    track.append((eval(model), eval_class(model, MAL_ORIG), mal))\n",
    "\n",
    "plt.figure()\n",
    "fig, ax1 = plt.subplots()\n",
    "ax1.plot(range(len(track)), [t[0] for t in track], color='tab:blue', label=\"eval\")\n",
    "ax1.plot(range(len(track)), [t[1] for t in track], color='tab:green', label=\"class\")\n",
    "ax1.plot(range(len(track)), [t[2] for t in track], color='tab:red', label=\"adv\")\n",
    "plt.legend()\n",
    "plt.show()"
   ],
   "metadata": {
    "collapsed": false,
    "pycharm": {
     "name": "#%%\n"
    }
   }
  }
 ],
 "metadata": {
  "kernelspec": {
   "display_name": "Python 3",
   "language": "python",
   "name": "python3"
  },
  "language_info": {
   "codemirror_mode": {
    "name": "ipython",
    "version": 2
   },
   "file_extension": ".py",
   "mimetype": "text/x-python",
   "name": "python",
   "nbconvert_exporter": "python",
   "pygments_lexer": "ipython2",
   "version": "2.7.6"
  }
 },
 "nbformat": 4,
 "nbformat_minor": 0
}