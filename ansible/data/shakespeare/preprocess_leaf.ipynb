{
 "cells": [
  {
   "cell_type": "code",
   "execution_count": 1,
   "metadata": {
    "collapsed": true
   },
   "outputs": [],
   "source": [
    "import tensorflow as tf\n",
    "import numpy as np"
   ]
  },
  {
   "cell_type": "markdown",
   "source": [
    "Step 1: Configure parameters here"
   ],
   "metadata": {
    "collapsed": false,
    "pycharm": {
     "name": "#%% md\n"
    }
   }
  },
  {
   "cell_type": "code",
   "execution_count": 2,
   "outputs": [],
   "source": [
    "num_clients = 48"
   ],
   "metadata": {
    "collapsed": false,
    "pycharm": {
     "name": "#%%\n"
    }
   }
  },
  {
   "cell_type": "markdown",
   "source": [
    "Download shakespeare dataset"
   ],
   "metadata": {
    "collapsed": false,
    "pycharm": {
     "name": "#%% md\n"
    }
   }
  },
  {
   "cell_type": "code",
   "execution_count": 3,
   "outputs": [
    {
     "name": "stdout",
     "output_type": "stream",
     "text": [
      "--2022-01-12 16:38:00--  http://www.gutenberg.org/files/100/old/1994-01-100.zip\r\n",
      "Resolving www.gutenberg.org (www.gutenberg.org)... 2610:28:3090:3000:0:bad:cafe:47, 152.19.134.47\r\n",
      "Connecting to www.gutenberg.org (www.gutenberg.org)|2610:28:3090:3000:0:bad:cafe:47|:80... connected.\r\n",
      "HTTP request sent, awaiting response... 302 Found\r\n",
      "Location: https://www.gutenberg.org/files/100/old/1994-01-100.zip [following]\r\n",
      "--2022-01-12 16:38:00--  https://www.gutenberg.org/files/100/old/1994-01-100.zip\r\n",
      "Connecting to www.gutenberg.org (www.gutenberg.org)|2610:28:3090:3000:0:bad:cafe:47|:443... connected.\r\n",
      "HTTP request sent, awaiting response... 200 OK\r\n",
      "Length: 2035857 (1,9M) [application/zip]\r\n",
      "Saving to: ‘1994-01-100.zip’\r\n",
      "\r\n",
      "1994-01-100.zip     100%[===================>]   1,94M  1,58MB/s    in 1,2s    \r\n",
      "\r\n",
      "2022-01-12 16:38:03 (1,58 MB/s) - ‘1994-01-100.zip’ saved [2035857/2035857]\r\n",
      "\r\n",
      "Archive:  1994-01-100.zip\r\n",
      "  inflating: 100.txt                 \r\n",
      "dividing txt data between users\r\n",
      "Splitting .txt data between users\r\n",
      "Discarded 5730 lines\r\n",
      "generating all_data.json\r\n",
      "./preprocess.sh: line 143: realpath: command not found\r\n",
      "------------------------------\r\n",
      "sampling data\r\n",
      "Using seed 1642001891\r\n",
      "\r\n",
      "- random seed written out to sampling_seed.txt\r\n",
      "writing all_data_niid_2.json\r\n",
      "------------------------------\r\n",
      "removing users with less than 0 samples\r\n",
      "writing all_data_niid_2_keep_0.json\r\n",
      "------------------------------\r\n",
      "generating training and test sets\r\n",
      "- random seed written out to split_seed.txt\r\n",
      "splitting data by sample\r\n",
      "writing all_data_niid_2_keep_0_train_9.json\r\n",
      "writing all_data_niid_2_keep_0_test_9.json\r\n",
      "------------------------------\r\n",
      "calculating JSON file checksums\r\n",
      "find: md5sum: No such file or directory\r\n",
      "checksums written to meta/dir-checksum.md5\r\n"
     ]
    }
   ],
   "source": [
    "!rm -r leaf/shakespeare/data/*\n",
    "!cd leaf/shakespeare && ./preprocess.sh -s niid --sf 0.2 -k 0 -t sample -tf 0.8"
   ],
   "metadata": {
    "collapsed": false,
    "pycharm": {
     "name": "#%% sh\n"
    }
   }
  },
  {
   "cell_type": "code",
   "execution_count": 4,
   "outputs": [
    {
     "name": "stdout",
     "output_type": "stream",
     "text": [
      "####################################\r\n",
      "DATASET: shakespeare\r\n",
      "1129 users\r\n",
      "4226158 samples (total)\r\n",
      "3743.28 samples per user (mean)\r\n",
      "num_samples (std): 6212.26\r\n",
      "num_samples (std/mean): 1.66\r\n",
      "num_samples (skewness): 3.35\r\n",
      "0 \t 705\r\n",
      "2000 \t 126\r\n",
      "4000 \t 72\r\n",
      "6000 \t 56\r\n",
      "8000 \t 38\r\n",
      "10000 \t 33\r\n",
      "12000 \t 31\r\n",
      "14000 \t 16\r\n",
      "16000 \t 8\r\n",
      "18000 \t 11\r\n"
     ]
    }
   ],
   "source": [
    "!cd leaf/shakespeare && ./stats.sh"
   ],
   "metadata": {
    "collapsed": false,
    "pycharm": {
     "name": "#%% sh\n"
    }
   }
  },
  {
   "cell_type": "markdown",
   "source": [
    "Step 2:"
   ],
   "metadata": {
    "collapsed": false
   }
  },
  {
   "cell_type": "code",
   "execution_count": 5,
   "outputs": [],
   "source": [
    "from leaf_loader import load_leaf_dataset, process_text_input_indices, process_char_output_indices\n",
    "\n",
    "users, train_data, test_data = load_leaf_dataset(\"shakespeare\")\n",
    "\n",
    "x_train = [process_text_input_indices(train_data[user]['x']) for user in users]\n",
    "y_train = [process_char_output_indices(train_data[user]['y']) for user in users]\n",
    "\n",
    "x_train = np.concatenate(x_train)\n",
    "y_train = np.concatenate(y_train)"
   ],
   "metadata": {
    "collapsed": false,
    "pycharm": {
     "name": "#%%\n"
    }
   }
  },
  {
   "cell_type": "markdown",
   "source": [
    "Step 3: Save the results."
   ],
   "metadata": {
    "collapsed": false,
    "pycharm": {
     "name": "#%% md\n"
    }
   }
  },
  {
   "cell_type": "code",
   "execution_count": 6,
   "outputs": [
    {
     "ename": "NameError",
     "evalue": "name 'x_test' is not defined",
     "output_type": "error",
     "traceback": [
      "\u001B[0;31m---------------------------------------------------------------------------\u001B[0m",
      "\u001B[0;31mNameError\u001B[0m                                 Traceback (most recent call last)",
      "\u001B[0;32m<ipython-input-6-a58fb335e658>\u001B[0m in \u001B[0;36m<module>\u001B[0;34m\u001B[0m\n\u001B[1;32m      7\u001B[0m     \u001B[0minds\u001B[0m \u001B[0;34m=\u001B[0m \u001B[0;34m(\u001B[0m\u001B[0mclient_id\u001B[0m \u001B[0;34m*\u001B[0m \u001B[0mdata_samples\u001B[0m\u001B[0;34m,\u001B[0m \u001B[0;34m(\u001B[0m\u001B[0mclient_id\u001B[0m \u001B[0;34m+\u001B[0m \u001B[0;36m1\u001B[0m\u001B[0;34m)\u001B[0m \u001B[0;34m*\u001B[0m \u001B[0mdata_samples\u001B[0m\u001B[0;34m)\u001B[0m\u001B[0;34m\u001B[0m\u001B[0;34m\u001B[0m\u001B[0m\n\u001B[1;32m      8\u001B[0m     \u001B[0mx\u001B[0m\u001B[0;34m,\u001B[0m \u001B[0my\u001B[0m \u001B[0;34m=\u001B[0m \u001B[0mx_train\u001B[0m\u001B[0;34m[\u001B[0m\u001B[0minds\u001B[0m\u001B[0;34m[\u001B[0m\u001B[0;36m0\u001B[0m\u001B[0;34m]\u001B[0m\u001B[0;34m:\u001B[0m\u001B[0minds\u001B[0m\u001B[0;34m[\u001B[0m\u001B[0;36m1\u001B[0m\u001B[0;34m]\u001B[0m\u001B[0;34m]\u001B[0m\u001B[0;34m,\u001B[0m \u001B[0my_train\u001B[0m\u001B[0;34m[\u001B[0m\u001B[0minds\u001B[0m\u001B[0;34m[\u001B[0m\u001B[0;36m0\u001B[0m\u001B[0;34m]\u001B[0m\u001B[0;34m:\u001B[0m\u001B[0minds\u001B[0m\u001B[0;34m[\u001B[0m\u001B[0;36m1\u001B[0m\u001B[0;34m]\u001B[0m\u001B[0;34m]\u001B[0m\u001B[0;34m\u001B[0m\u001B[0;34m\u001B[0m\u001B[0m\n\u001B[0;32m----> 9\u001B[0;31m     \u001B[0mnp\u001B[0m\u001B[0;34m.\u001B[0m\u001B[0msave\u001B[0m\u001B[0;34m(\u001B[0m\u001B[0;34mf\".././dataset_{client_id}\"\u001B[0m\u001B[0;34m,\u001B[0m \u001B[0;34m(\u001B[0m\u001B[0mx\u001B[0m\u001B[0;34m,\u001B[0m \u001B[0my\u001B[0m\u001B[0;34m,\u001B[0m \u001B[0mx_test\u001B[0m\u001B[0;34m,\u001B[0m \u001B[0my_test\u001B[0m\u001B[0;34m)\u001B[0m\u001B[0;34m)\u001B[0m\u001B[0;34m\u001B[0m\u001B[0;34m\u001B[0m\u001B[0m\n\u001B[0m",
      "\u001B[0;31mNameError\u001B[0m: name 'x_test' is not defined"
     ]
    }
   ],
   "source": [
    "# Sort IID\n",
    "perms = np.random.permutation(x_train.shape[0])\n",
    "x_train, y_train = x_train[perms, :], y_train[perms]\n",
    "\n",
    "for client_id in range(num_clients):\n",
    "    data_samples = int(x_train.shape[0] / num_clients)\n",
    "    inds = (client_id * data_samples, (client_id + 1) * data_samples)\n",
    "    x, y = x_train[inds[0]:inds[1]], y_train[inds[0]:inds[1]]\n",
    "    np.save(f\".././dataset_{client_id}\", (x, y, x_test, y_test))"
   ],
   "metadata": {
    "collapsed": false,
    "pycharm": {
     "name": "#%%\n"
    }
   }
  }
 ],
 "metadata": {
  "kernelspec": {
   "display_name": "Python 3",
   "language": "python",
   "name": "python3"
  },
  "language_info": {
   "codemirror_mode": {
    "name": "ipython",
    "version": 2
   },
   "file_extension": ".py",
   "mimetype": "text/x-python",
   "name": "python",
   "nbconvert_exporter": "python",
   "pygments_lexer": "ipython2",
   "version": "2.7.6"
  }
 },
 "nbformat": 4,
 "nbformat_minor": 0
}